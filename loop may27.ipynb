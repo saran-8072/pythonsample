{
 "cells": [
  {
   "cell_type": "code",
   "execution_count": 1,
   "id": "e3bf40ad-c043-4e63-9de5-db5c93d140e2",
   "metadata": {},
   "outputs": [],
   "source": [
    "#Using Range function  print multiples of 5 from 75 to 0\n",
    "#Using Range function  print multiples of 8 from 96 to 72"
   ]
  },
  {
   "cell_type": "code",
   "execution_count": 27,
   "id": "3f385704-eb9d-4679-bcb2-20bb7dc70d9f",
   "metadata": {},
   "outputs": [
    {
     "name": "stdin",
     "output_type": "stream",
     "text": [
      "enter a number: 75\n"
     ]
    },
    {
     "name": "stdout",
     "output_type": "stream",
     "text": [
      "0\n",
      "5\n",
      "10\n",
      "15\n",
      "20\n",
      "25\n",
      "30\n",
      "35\n",
      "40\n",
      "45\n",
      "50\n",
      "55\n",
      "60\n",
      "65\n",
      "70\n",
      "75\n"
     ]
    }
   ],
   "source": [
    "#Using Range function  print multiples of 5 from 0 to 75\n",
    "a=int(input(\"enter a number:\"))\n",
    "for i in range(0,a+1,5):\n",
    "    print(i)"
   ]
  },
  {
   "cell_type": "code",
   "execution_count": 43,
   "id": "1a1f7547-9842-4ffe-89b8-767f4a3a2665",
   "metadata": {},
   "outputs": [
    {
     "name": "stdin",
     "output_type": "stream",
     "text": [
      "enter a number: 72\n"
     ]
    },
    {
     "name": "stdout",
     "output_type": "stream",
     "text": [
      "0\n",
      "8\n",
      "16\n",
      "24\n",
      "32\n",
      "40\n",
      "48\n",
      "56\n",
      "64\n",
      "72\n"
     ]
    }
   ],
   "source": [
    "#Using Range function  print multiples of 8 from 0 to 72\n",
    "a=int(input(\"enter a number:\"))\n",
    "for i in range(0,a+1,8):\n",
    "    print(i)"
   ]
  },
  {
   "cell_type": "code",
   "execution_count": 87,
   "id": "094313be-7e6d-497e-a43c-3cb82b13f5e7",
   "metadata": {},
   "outputs": [
    {
     "name": "stdin",
     "output_type": "stream",
     "text": [
      "enter a num: 0\n"
     ]
    },
    {
     "name": "stdout",
     "output_type": "stream",
     "text": [
      "75\n",
      "70\n",
      "65\n",
      "60\n",
      "55\n",
      "50\n",
      "45\n",
      "40\n",
      "35\n",
      "30\n",
      "25\n",
      "20\n",
      "15\n",
      "10\n",
      "5\n",
      "0\n"
     ]
    }
   ],
   "source": [
    "#Using Range function  print multiples of 5 from 75 to 0\n",
    "a=int(input(\"enter a num:\"))\n",
    "for i in range(75,-1,-5):\n",
    "    print(i)"
   ]
  },
  {
   "cell_type": "code",
   "execution_count": 71,
   "id": "c538cbe6-9fbc-4091-8ada-64f593e87c3c",
   "metadata": {},
   "outputs": [
    {
     "name": "stdin",
     "output_type": "stream",
     "text": [
      "enter a number: 72\n"
     ]
    },
    {
     "name": "stdout",
     "output_type": "stream",
     "text": [
      "96\n",
      "88\n",
      "80\n",
      "72\n",
      "64\n",
      "56\n",
      "48\n",
      "40\n",
      "32\n",
      "24\n",
      "16\n",
      "8\n",
      "0\n"
     ]
    }
   ],
   "source": [
    "#Using Range function  print multiples of 8 from 96 to 72\n",
    "a=int(input(\"enter a number:\"))\n",
    "for i in range(96,-1,-8):\n",
    "    print(i)"
   ]
  },
  {
   "cell_type": "code",
   "execution_count": 95,
   "id": "a35d42cd-306b-4a20-a29e-4bab4b8ff092",
   "metadata": {},
   "outputs": [
    {
     "name": "stdin",
     "output_type": "stream",
     "text": [
      "enter a number: 10\n",
      "enter a number: 100\n"
     ]
    },
    {
     "name": "stdout",
     "output_type": "stream",
     "text": [
      "11\n",
      "19\n",
      "27\n",
      "35\n",
      "43\n",
      "51\n",
      "59\n",
      "67\n",
      "75\n",
      "83\n",
      "91\n",
      "99\n"
     ]
    }
   ],
   "source": [
    "#Get two integers from user\n",
    "#print multiples of 8 between them\n",
    "#clues:\n",
    "#Use range function in for loop\n",
    "#Use if condition inside for loop\n",
    "#add in to list\n",
    "#input 10 100\n",
    "#multiples of 8\n",
    "#[16,24,32.....,96]\n",
    "a=int(input(\"enter a number:\"))\n",
    "b=int(input(\"enter a number:\"))\n",
    "for i in range(a+1,b+1,8):\n",
    "    print(i)"
   ]
  },
  {
   "cell_type": "code",
   "execution_count": 9,
   "id": "d27cdfd5-61fd-4414-adf2-6ca111716220",
   "metadata": {},
   "outputs": [
    {
     "name": "stdin",
     "output_type": "stream",
     "text": [
      "enter a number: 10\n"
     ]
    },
    {
     "name": "stdout",
     "output_type": "stream",
     "text": [
      "10 10 10 10 10 10 10 10 10 10 10 10 10 10 10 10 10 10 10 10 10 10 10 10 10 10 10 10 10 10 10 10 10 10 10 10 10 10 10 10 10 10 10 10 10 10 10 10 10 10 10 10 10 10 10 "
     ]
    }
   ],
   "source": [
    "#infinity loop\n",
    "import itertools\n",
    "for i in itertools.count():\n",
    "    print(i)"
   ]
  },
  {
   "cell_type": "code",
   "execution_count": 68,
   "id": "b8bb6eec-6b3f-4302-97cf-a4078210e9c6",
   "metadata": {},
   "outputs": [
    {
     "name": "stdin",
     "output_type": "stream",
     "text": [
      "enter a number: 10\n",
      "enter a number: 100\n"
     ]
    },
    {
     "name": "stdout",
     "output_type": "stream",
     "text": [
      "multiples of 8 [16, 24, 32, 40, 48, 56, 64, 72, 80, 88, 96]\n"
     ]
    }
   ],
   "source": [
    "#Get two integers from user\n",
    "#print multiples of 8 between them\n",
    "#clues:\n",
    "#Use range function in for loop\n",
    "#Use if condition inside for loop\n",
    "#add in to list\n",
    "#input 10 100\n",
    "#multiples of 8\n",
    "#[16,24,32.....,96]\n",
    "a=int(input(\"enter a number:\"))\n",
    "b=int(input(\"enter a number:\"))\n",
    "c=[]\n",
    "for i in range(a,b+1):\n",
    "    if i%8==0:\n",
    "        c.append(i)\n",
    "print(\"multiples of 8\", c)"
   ]
  },
  {
   "cell_type": "code",
   "execution_count": 82,
   "id": "a776314b-d322-47cc-a33a-08e4b3ecfd6b",
   "metadata": {},
   "outputs": [
    {
     "name": "stdin",
     "output_type": "stream",
     "text": [
      "enter a list: saran\n"
     ]
    },
    {
     "name": "stdout",
     "output_type": "stream",
     "text": [
      "['saran']\n"
     ]
    },
    {
     "name": "stdin",
     "output_type": "stream",
     "text": [
      "enter a list: ravi\n"
     ]
    },
    {
     "name": "stdout",
     "output_type": "stream",
     "text": [
      "['saran', 'ravi']\n"
     ]
    },
    {
     "name": "stdin",
     "output_type": "stream",
     "text": [
      "enter a list: saran\n"
     ]
    },
    {
     "name": "stdout",
     "output_type": "stream",
     "text": [
      "['saran', 'ravi', 'saran']\n"
     ]
    }
   ],
   "source": [
    "#Task3:\n",
    "#Get a dynamic list from user\n",
    "a=[]\n",
    "for i in range(3):\n",
    "    b=input(\"enter a list:\")\n",
    "    a.append(b)\n",
    "    print(a)"
   ]
  },
  {
   "cell_type": "code",
   "execution_count": 96,
   "id": "62a1718c-25b3-4776-8fe4-40138122aa6f",
   "metadata": {},
   "outputs": [
    {
     "name": "stdin",
     "output_type": "stream",
     "text": [
      "enter a key: name\n",
      "enter a value: saran\n"
     ]
    },
    {
     "name": "stdout",
     "output_type": "stream",
     "text": [
      "{'name': 'saran'}\n"
     ]
    },
    {
     "name": "stdin",
     "output_type": "stream",
     "text": [
      "enter a key: age\n",
      "enter a value: 22\n"
     ]
    },
    {
     "name": "stdout",
     "output_type": "stream",
     "text": [
      "{'name': 'saran', 'age': '22'}\n"
     ]
    },
    {
     "name": "stdin",
     "output_type": "stream",
     "text": [
      "enter a key: loaction\n",
      "enter a value: abcd\n"
     ]
    },
    {
     "name": "stdout",
     "output_type": "stream",
     "text": [
      "{'name': 'saran', 'age': '22', 'loaction': 'abcd'}\n"
     ]
    }
   ],
   "source": [
    "#Task4:\n",
    "#Get a dynamic dictionary from use\n",
    "a={}\n",
    "for i in range(3):\n",
    "    b=input(\"enter a key:\")\n",
    "    c=input(\"enter a value:\")\n",
    "    a.update({b:c})\n",
    "    print(a)"
   ]
  },
  {
   "cell_type": "code",
   "execution_count": 76,
   "id": "5366a8be-e196-47f2-bf07-d76a907b6d69",
   "metadata": {},
   "outputs": [
    {
     "name": "stdout",
     "output_type": "stream",
     "text": [
      "[3, 5, 7, 9]\n",
      "[4, 2, 8, 10]\n",
      "[3, 4, 5, 2, 7, 8, 9, 10]\n"
     ]
    }
   ],
   "source": [
    "#Task 6:\n",
    "#Input:\n",
    "#Li1 = [3,4,5,2,7,8,9,10]\n",
    "#Output:\n",
    "#Li_odd = [3,5,7,9]\n",
    "#Li_even = [4,2,8,10]\n",
    "#Li1 = [3,4,5,2,7,8,9,10]\n",
    "a=[3,4,5,2,7,8,9,10]\n",
    "odd=[]\n",
    "even=[]\n",
    "for i in a:\n",
    "    if i%2==0:\n",
    "        even.append(i)\n",
    "    else:\n",
    "        odd.append(i)\n",
    "print(odd)\n",
    "print(even)\n",
    "print(a)"
   ]
  },
  {
   "cell_type": "code",
   "execution_count": 98,
   "id": "f5a6f619-8928-45af-8636-394d7114b843",
   "metadata": {},
   "outputs": [],
   "source": [
    "#Task2:\n",
    "#Multiple index with list value \n",
    "#[2,5,6,8,12,13]\n",
    "#2*0 + 5*1 + 6*2 + 8*3 + 12*4 + 13*5 ==> \n",
    "#[2,5,6,8,12,13,2,2,0]\n",
    "#[1,1,1]\n",
    "a=[2,5,6,8,12,13]\n"
   ]
  },
  {
   "cell_type": "code",
   "execution_count": null,
   "id": "88c893c3-b51f-493c-9584-b76ab2bfe9dd",
   "metadata": {},
   "outputs": [],
   "source": []
  }
 ],
 "metadata": {
  "kernelspec": {
   "display_name": "Python [conda env:base] *",
   "language": "python",
   "name": "conda-base-py"
  },
  "language_info": {
   "codemirror_mode": {
    "name": "ipython",
    "version": 3
   },
   "file_extension": ".py",
   "mimetype": "text/x-python",
   "name": "python",
   "nbconvert_exporter": "python",
   "pygments_lexer": "ipython3",
   "version": "3.12.7"
  }
 },
 "nbformat": 4,
 "nbformat_minor": 5
}
