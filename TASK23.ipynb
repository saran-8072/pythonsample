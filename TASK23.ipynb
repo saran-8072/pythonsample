{
 "cells": [
  {
   "cell_type": "code",
   "execution_count": 1,
   "id": "26d01270-7bd2-46fc-b593-55a66fff6632",
   "metadata": {},
   "outputs": [],
   "source": [
    "# Get three strings from user\n",
    " \n",
    "#maths  science  tamil  ===> mtsseetml ==> Concatenation of first letter,middle letter and last letter from all the three strings\n"
   ]
  },
  {
   "cell_type": "code",
   "execution_count": 768,
   "id": "6657fb32-1c64-414b-95ba-50e76019ecd8",
   "metadata": {},
   "outputs": [
    {
     "name": "stdin",
     "output_type": "stream",
     "text": [
      "Enter a string: maths\n",
      " science\n",
      " tamil\n"
     ]
    },
    {
     "name": "stdout",
     "output_type": "stream",
     "text": [
      "mtsseetml\n"
     ]
    }
   ],
   "source": [
    "a=input(\"Enter a string:\")\n",
    "b=input()\n",
    "c=input()\n",
    "result=(a[0]+a[len(a)// 2]+a[-1]+b[0]+b[len(b)// 2]+b[-1]+c[0]+c[len(c)// 2]+c[-1])\n",
    "print(result)\n",
    "\n",
    "\n"
   ]
  },
  {
   "cell_type": "code",
   "execution_count": 19,
   "id": "9803ba00-ef49-4468-a372-621a94a6f8b7",
   "metadata": {},
   "outputs": [],
   "source": [
    "# Get two values (input) ===> number, string\n",
    "\n",
    "#7, \"python\" ===> pythonpythonpythonpythonpythonpythonpython777777\n",
    "\n",
    "#3, \"perl\"   ===> perlperlperl3333\n"
   ]
  },
  {
   "cell_type": "code",
   "execution_count": 1,
   "id": "5ca49ddf-5825-4b8b-b164-da4fb38d7258",
   "metadata": {},
   "outputs": [
    {
     "name": "stdin",
     "output_type": "stream",
     "text": [
      " python\n",
      " 7\n"
     ]
    },
    {
     "name": "stdout",
     "output_type": "stream",
     "text": [
      "pythonpythonpythonpythonpythonpythonpython777777\n"
     ]
    }
   ],
   "source": [
    "a=str(input())\n",
    "b=int(input())\n",
    "c=len(a)\n",
    "d=a*b+str(b)*c\n",
    "\n",
    "print(d)\n"
   ]
  },
  {
   "cell_type": "code",
   "execution_count": 207,
   "id": "ac65bd1b-a949-42cf-8686-2e4cfa79410c",
   "metadata": {},
   "outputs": [],
   "source": [
    "#get two strings from user  computer science  ==> input \n",
    "\n",
    "#step 1 ==> comPuter  sciEnce\n",
    "\n",
    "#step 2 ===> concatenate both ==> comPutersciEnce\n",
    "\n",
    "#step 3 ===> comPuteRsciEnce\n"
   ]
  },
  {
   "cell_type": "code",
   "execution_count": 57,
   "id": "e3548f44-8268-44bd-9377-759179a438fb",
   "metadata": {
    "scrolled": true
   },
   "outputs": [
    {
     "name": "stdin",
     "output_type": "stream",
     "text": [
      "Enter a string1: computer\n"
     ]
    },
    {
     "ename": "TypeError",
     "evalue": "can only concatenate str (not \"int\") to str",
     "output_type": "error",
     "traceback": [
      "\u001b[1;31m---------------------------------------------------------------------------\u001b[0m",
      "\u001b[1;31mTypeError\u001b[0m                                 Traceback (most recent call last)",
      "Cell \u001b[1;32mIn[57], line 5\u001b[0m\n\u001b[0;32m      3\u001b[0m a\u001b[38;5;241m=\u001b[39m\u001b[38;5;28mlen\u001b[39m(string_1)\u001b[38;5;241m/\u001b[39m\u001b[38;5;241m/\u001b[39m\u001b[38;5;241m2\u001b[39m\n\u001b[0;32m      4\u001b[0m b\u001b[38;5;241m=\u001b[39mstring_1[\u001b[38;5;241m0\u001b[39m:a]\u001b[38;5;241m+\u001b[39mstring_1[a]\u001b[38;5;241m.\u001b[39mupper()\n\u001b[1;32m----> 5\u001b[0m c\u001b[38;5;241m=\u001b[39mb\u001b[38;5;241m+\u001b[39m\u001b[38;5;241m1\u001b[39m\n\u001b[0;32m      6\u001b[0m \u001b[38;5;28mprint\u001b[39m(c)\n\u001b[0;32m      7\u001b[0m \u001b[38;5;66;03m#d=string_2[b].upper()\u001b[39;00m\n",
      "\u001b[1;31mTypeError\u001b[0m: can only concatenate str (not \"int\") to str"
     ]
    }
   ],
   "source": [
    "string_1=input(\"Enter a string1:\")\n",
    "#string_2=input(\"Enter a string2:\")\n",
    "a=len(string_1)//2\n",
    "b=string_1[0:a]+string_1[a].upper()+\n",
    "print(c)\n",
    "#d=string_2[b].upper()\n",
    "print(c)"
   ]
  },
  {
   "cell_type": "code",
   "execution_count": 104,
   "id": "e20c4333-d0fe-4a53-8f3d-27f84d9de537",
   "metadata": {},
   "outputs": [
    {
     "name": "stdout",
     "output_type": "stream",
     "text": [
      "u\n"
     ]
    }
   ],
   "source": [
    "a=\"computer\"\n",
    "b=len(a)//2\n",
    "print(a[b])"
   ]
  },
  {
   "cell_type": "code",
   "execution_count": 253,
   "id": "721b1fbb-04e9-4b27-b1b8-2b6385dc2d1e",
   "metadata": {},
   "outputs": [],
   "source": [
    "#Get one string (Captial) ==> PYTHON\n",
    "#Convert middle letter of the string in to small"
   ]
  },
  {
   "cell_type": "code",
   "execution_count": 83,
   "id": "cd82f9be-fa60-4685-83d6-e224564711ea",
   "metadata": {},
   "outputs": [
    {
     "name": "stdout",
     "output_type": "stream",
     "text": [
      "SARAN\n",
      "r\n"
     ]
    }
   ],
   "source": [
    "a=\"saran\"\n",
    "b=len(a)\n",
    "print(a.upper())\n",
    "c=b//2\n",
    "print(a[c].lower())"
   ]
  },
  {
   "cell_type": "code",
   "execution_count": 73,
   "id": "79891db4-3862-45b5-823f-432954dc1ab1",
   "metadata": {},
   "outputs": [],
   "source": [
    "#Get one string from user:\n",
    "\n",
    "#python   ===> PythoN  (convert first and last char to captial"
   ]
  },
  {
   "cell_type": "code",
   "execution_count": 75,
   "id": "d640d9d7-c8f2-4a6c-b429-ff0d17ac91a8",
   "metadata": {},
   "outputs": [
    {
     "name": "stdin",
     "output_type": "stream",
     "text": [
      "Enter a string: python\n"
     ]
    },
    {
     "name": "stdout",
     "output_type": "stream",
     "text": [
      "PythoN\n"
     ]
    }
   ],
   "source": [
    "a=str(input(\"Enter a string:\"))\n",
    "length=len(a)\n",
    "c=(a[0].upper()+a[1:-1]+a[-1].upper())\n",
    "print(c)\n",
    "\n",
    "\n",
    "\n"
   ]
  },
  {
   "cell_type": "code",
   "execution_count": 467,
   "id": "053fb441-4ca8-4178-9a61-98dfecd73bc6",
   "metadata": {},
   "outputs": [],
   "source": [
    "# Get two values (input) ===> string, integer\n",
    "\n",
    "#computer_science, 3 ===> mocputer_scieecn\n",
    "\n",
    "#biology , 2  ===> iboloyg\n",
    "\n"
   ]
  },
  {
   "cell_type": "code",
   "execution_count": null,
   "id": "900b8cbc-c8ad-45d3-ad72-f4d6160d3cdd",
   "metadata": {},
   "outputs": [],
   "source": []
  },
  {
   "cell_type": "code",
   "execution_count": 102,
   "id": "ef14501d-ada0-4753-86d4-6a4fbc578ffb",
   "metadata": {},
   "outputs": [
    {
     "name": "stdin",
     "output_type": "stream",
     "text": [
      "enter a string computer science\n",
      "enter a integer: 3\n"
     ]
    },
    {
     "name": "stdout",
     "output_type": "stream",
     "text": [
      "mocputer scieecn\n"
     ]
    }
   ],
   "source": [
    "a=input(\"enter a string\")\n",
    "b=int(input(\"enter a integer:\"))\n",
    "e=a[:b]\n",
    "f=e[::-1]\n",
    "i=a[-b:]\n",
    "j=i[::-1]\n",
    "h=a[b:-b]\n",
    "z=f+h+j\n",
    "print(z)"
   ]
  },
  {
   "cell_type": "code",
   "execution_count": null,
   "id": "e2e20717-1711-4554-a14b-9c7cdf583046",
   "metadata": {},
   "outputs": [],
   "source": [
    "# Get two values (input) ===> number, string\n",
    "\n",
    "#7, \"python\" ===> pythonpythonpythonpythonpythonpythonpython777777\n",
    "\n",
    "#3, \"perl\"   ===> perlperlperl3333\n"
   ]
  },
  {
   "cell_type": "code",
   "execution_count": 784,
   "id": "9d7faddc-f76d-4af6-b6e8-6ad12b99530b",
   "metadata": {},
   "outputs": [
    {
     "name": "stdin",
     "output_type": "stream",
     "text": [
      " kumar\n",
      " 3\n"
     ]
    },
    {
     "name": "stdout",
     "output_type": "stream",
     "text": [
      "kumarkumarkumar33333\n"
     ]
    }
   ],
   "source": [
    "a=str(input())\n",
    "b=int(input())\n",
    "c=len(a)\n",
    "d=a*b+str(b)*c\n",
    "\n",
    "print(d)\n"
   ]
  },
  {
   "cell_type": "code",
   "execution_count": null,
   "id": "c7ae3cb1-ed0d-4495-8e42-2fafefbeb8ff",
   "metadata": {},
   "outputs": [],
   "source": []
  },
  {
   "cell_type": "markdown",
   "id": "b4881600-f3bc-43a7-8f1e-7182995ec15b",
   "metadata": {},
   "source": [
    "# TASK"
   ]
  },
  {
   "cell_type": "code",
   "execution_count": 1,
   "id": "5fafe011-879c-4d6f-817a-493c491bdd00",
   "metadata": {},
   "outputs": [
    {
     "name": "stdin",
     "output_type": "stream",
     "text": [
      "enter a string: saran kumar\n",
      "enter a number: 4\n"
     ]
    },
    {
     "name": "stdout",
     "output_type": "stream",
     "text": [
      "arasn kramu\n"
     ]
    }
   ],
   "source": [
    "a=input(\"enter a string:\")\n",
    "b=int(input(\"enter a number:\"))\n",
    "e=a[:b]\n",
    "f=e[::-1]\n",
    "i=a[-b:]\n",
    "j=i[::-1]\n",
    "h=a[b:-b]\n",
    "z=f+h+j\n",
    "print(z)"
   ]
  },
  {
   "cell_type": "code",
   "execution_count": null,
   "id": "31094d2d-8228-4367-a2a6-54c73562169d",
   "metadata": {},
   "outputs": [],
   "source": [
    "# Get two values (input) ===> number, string\n",
    "\n",
    "#7, \"saran\" ===>saransaransaransaransaransaransaran7777777\n",
    "\n",
    "#4, \"punith\"   ===> punithpunithpunithpunith4444\n"
   ]
  },
  {
   "cell_type": "code",
   "execution_count": 169,
   "id": "dfcd7537-eb53-4b82-8791-cc00ea02d94a",
   "metadata": {},
   "outputs": [
    {
     "name": "stdin",
     "output_type": "stream",
     "text": [
      "enter a string: saran\n",
      "enter a number: 7\n"
     ]
    },
    {
     "name": "stdout",
     "output_type": "stream",
     "text": [
      "saransaransaransaransaransaransaran7777777\n"
     ]
    },
    {
     "name": "stdin",
     "output_type": "stream",
     "text": [
      "enter a string: punith\n",
      "enter a number: 4\n"
     ]
    },
    {
     "name": "stdout",
     "output_type": "stream",
     "text": [
      "punithpunithpunithpunith4444\n"
     ]
    }
   ],
   "source": [
    "a=input(\"enter a string:\")\n",
    "b=int(input(\"enter a number:\"))\n",
    "c=len(a)\n",
    "d=a*b+str(b)*b\n",
    "print(d)\n",
    "e=input(\"enter a string:\")\n",
    "f=int(input(\"enter a number:\"))\n",
    "g=len(e)\n",
    "h=e*f+str(f)*f\n",
    "print(h)\n"
   ]
  },
  {
   "cell_type": "code",
   "execution_count": 126,
   "id": "a2d99307-0145-4690-af7a-fe5de873278d",
   "metadata": {},
   "outputs": [
    {
     "name": "stdin",
     "output_type": "stream",
     "text": [
      "enter a string: maths\n",
      "enter a striing: science\n",
      "enter a string: tamil\n"
     ]
    },
    {
     "name": "stdout",
     "output_type": "stream",
     "text": [
      "masseceil\n"
     ]
    }
   ],
   "source": [
    "# maths,science,tamil===> masseceil\n",
    "\n",
    "a=input(\"enter a string:\")\n",
    "b=input(\"enter a striing:\")\n",
    "c=input(\"enter a string:\")\n",
    "d=((a[0]+a[1]+a[-1])+(b[0]+b[3]+b[-2]+b[-1])+(c[-2]+c[-1]))\n",
    "print(d)"
   ]
  },
  {
   "cell_type": "code",
   "execution_count": 41,
   "id": "448e4929-cc4b-49d7-a57d-ceb055e31f34",
   "metadata": {},
   "outputs": [
    {
     "name": "stdin",
     "output_type": "stream",
     "text": [
      "enter a string1: master\n",
      "enter a string2: python\n"
     ]
    },
    {
     "name": "stdout",
     "output_type": "stream",
     "text": [
      "maston\n"
     ]
    }
   ],
   "source": [
    "string_1=input(\"enter a string1:\")\n",
    "string_2=input(\"enter a string2:\")\n",
    "c=string_1[0:3]+string_1[len(string_1)//2]+string_2[4:]\n",
    "print(c)"
   ]
  },
  {
   "cell_type": "code",
   "execution_count": null,
   "id": "9e1d96a8-222c-46f4-8a14-c32b0d5afcc7",
   "metadata": {},
   "outputs": [],
   "source": []
  }
 ],
 "metadata": {
  "kernelspec": {
   "display_name": "Python [conda env:base] *",
   "language": "python",
   "name": "conda-base-py"
  },
  "language_info": {
   "codemirror_mode": {
    "name": "ipython",
    "version": 3
   },
   "file_extension": ".py",
   "mimetype": "text/x-python",
   "name": "python",
   "nbconvert_exporter": "python",
   "pygments_lexer": "ipython3",
   "version": "3.12.7"
  }
 },
 "nbformat": 4,
 "nbformat_minor": 5
}
