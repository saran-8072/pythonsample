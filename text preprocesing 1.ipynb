{
 "cells": [
  {
   "cell_type": "code",
   "execution_count": 95,
   "id": "b610460e-8b86-401b-b321-9974040220aa",
   "metadata": {},
   "outputs": [
    {
     "name": "stdout",
     "output_type": "stream",
     "text": [
      "Requirement already satisfied: nltk in c:\\users\\saran\\anaconda3\\lib\\site-packages (3.9.1)\n",
      "Requirement already satisfied: click in c:\\users\\saran\\anaconda3\\lib\\site-packages (from nltk) (8.1.7)\n",
      "Requirement already satisfied: joblib in c:\\users\\saran\\anaconda3\\lib\\site-packages (from nltk) (1.4.2)\n",
      "Requirement already satisfied: regex>=2021.8.3 in c:\\users\\saran\\anaconda3\\lib\\site-packages (from nltk) (2024.9.11)\n",
      "Requirement already satisfied: tqdm in c:\\users\\saran\\anaconda3\\lib\\site-packages (from nltk) (4.66.5)\n",
      "Requirement already satisfied: colorama in c:\\users\\saran\\anaconda3\\lib\\site-packages (from click->nltk) (0.4.6)\n"
     ]
    }
   ],
   "source": [
    "! pip install nltk"
   ]
  },
  {
   "cell_type": "code",
   "execution_count": 129,
   "id": "50b3ae16-baf2-45da-a286-619a5d0e952a",
   "metadata": {},
   "outputs": [
    {
     "name": "stderr",
     "output_type": "stream",
     "text": [
      "[nltk_data] Downloading package stopwords to\n",
      "[nltk_data]     C:\\Users\\saran\\AppData\\Roaming\\nltk_data...\n",
      "[nltk_data]   Package stopwords is already up-to-date!\n",
      "[nltk_data] Downloading package punkt to\n",
      "[nltk_data]     C:\\Users\\saran\\AppData\\Roaming\\nltk_data...\n",
      "[nltk_data]   Package punkt is already up-to-date!\n",
      "[nltk_data] Downloading package wordnet to\n",
      "[nltk_data]     C:\\Users\\saran\\AppData\\Roaming\\nltk_data...\n",
      "[nltk_data]   Package wordnet is already up-to-date!\n",
      "[nltk_data] Downloading package omw-1.4 to\n",
      "[nltk_data]     C:\\Users\\saran\\AppData\\Roaming\\nltk_data...\n",
      "[nltk_data]   Package omw-1.4 is already up-to-date!\n"
     ]
    }
   ],
   "source": [
    "import nltk\n",
    "nltk.download('stopwords')\n",
    "nltk.download('punkt')\n",
    "nltk.download('wordnet')  \n",
    "nltk.download('omw-1.4') \n",
    "from nltk.tokenize import word_tokenize\n",
    "from textblob import TextBlob\n",
    "from nltk.corpus import stopwords\n",
    "from nltk.stem import WordNetLemmatizer\n",
    "import string"
   ]
  },
  {
   "cell_type": "code",
   "execution_count": 147,
   "id": "72eea0aa-1773-44bc-8437-f3365587d6e5",
   "metadata": {},
   "outputs": [
    {
     "name": "stdout",
     "output_type": "stream",
     "text": [
      "\n",
      "the titular threat of the blob has always struck me as the ultimate movie\n",
      "monster: an insatiably hungry, amoeba-like mass able to penetrate\n",
      "virtually any safeguard, capable of--as a doomed doctor chillingly\n",
      "describes it--\"assimilating flesh on contact.\n",
      "snide comparisons to gelatin be damned, it's a concept with the most\n",
      "devastating of potential consequences, not unlike the grey goo scenario\n",
      "proposed by technological theorists fearful of\n",
      "artificial intelligence run rampant.\n",
      "\n",
      "\n",
      "The titular threat of The Blob has always struck me as the ultimate movie\n",
      "monster an insatiably hungry amoebalike mass able to penetrate\n",
      "virtually any safeguard capable ofas a doomed doctor chillingly\n",
      "describes itassimilating flesh on contact\n",
      "Snide comparisons to gelatin be damned its a concept with the most\n",
      "devastating of potential consequences not unlike the grey goo scenario\n",
      "proposed by technological theorists fearful of\n",
      "artificial intelligence run rampant\n",
      "\n",
      "['The', 'titular', 'threat', 'of', 'The', 'Blob', 'has', 'always', 'struck', 'me', 'as', 'the', 'ultimate', 'movie', 'monster', ':', 'an', 'insatiably', 'hungry', ',', 'amoeba-like', 'mass', 'able', 'to', 'penetrate', 'virtually', 'any', 'safeguard', ',', 'capable', 'of', '--', 'as', 'a', 'doomed', 'doctor', 'chillingly', 'describes', 'it', '--', \"''\", 'assimilating', 'flesh', 'on', 'contact', '.', 'Snide', 'comparisons', 'to', 'gelatin', 'be', 'damned', ',', 'it', \"'s\", 'a', 'concept', 'with', 'the', 'most', 'devastating', 'of', 'potential', 'consequences', ',', 'not', 'unlike', 'the', 'grey', 'goo', 'scenario', 'proposed', 'by', 'technological', 'theorists', 'fearful', 'of', 'artificial', 'intelligence', 'run', 'rampant', '.']\n"
     ]
    }
   ],
   "source": [
    "text = \"\"\"\n",
    "The titular threat of The Blob has always struck me as the ultimate movie\n",
    "monster: an insatiably hungry, amoeba-like mass able to penetrate\n",
    "virtually any safeguard, capable of--as a doomed doctor chillingly\n",
    "describes it--\"assimilating flesh on contact.\n",
    "Snide comparisons to gelatin be damned, it's a concept with the most\n",
    "devastating of potential consequences, not unlike the grey goo scenario\n",
    "proposed by technological theorists fearful of\n",
    "artificial intelligence run rampant.\n",
    "\"\"\"\n",
    "text_1=text.lower()\n",
    "print(text_1)\n",
    "\n",
    "text_2=text.translate(str.maketrans(\"\", \"\", string.punctuation))\n",
    "print(text_2 )\n",
    "\n",
    "text_3=word_tokenize(text)\n",
    "print(text_3)\n"
   ]
  },
  {
   "cell_type": "code",
   "execution_count": 149,
   "id": "80502316-e2fb-479d-9db1-deb1910cdbb7",
   "metadata": {},
   "outputs": [
    {
     "name": "stdout",
     "output_type": "stream",
     "text": [
      "['The', 'titular', 'threat', 'The', 'Blob', 'always', 'struck', 'ultimate', 'movie', 'monster', ':', 'insatiably', 'hungry', ',', 'amoeba-like', 'mass', 'able', 'penetrate', 'virtually', 'safeguard', ',', 'capable', '--', 'doomed', 'doctor', 'chillingly', 'describes', '--', \"''\", 'assimilating', 'flesh', 'contact', '.', 'Snide', 'comparisons', 'gelatin', 'damned', ',', \"'s\", 'concept', 'devastating', 'potential', 'consequences', ',', 'unlike', 'grey', 'goo', 'scenario', 'proposed', 'technological', 'theorists', 'fearful', 'artificial', 'intelligence', 'run', 'rampant', '.']\n"
     ]
    }
   ],
   "source": [
    "text_4=set(stopwords.words('english'))\n",
    "a=[word for word in text_3 if word not in text_4]\n",
    "print(a)\n",
    "\n",
    "\n"
   ]
  },
  {
   "cell_type": "code",
   "execution_count": 139,
   "id": "3327694f-2687-45c4-9a72-a0f2ccc93ccc",
   "metadata": {},
   "outputs": [
    {
     "name": "stdout",
     "output_type": "stream",
     "text": [
      "['The', 'titular', 'threat', 'of', 'The', 'Blob', 'ha', 'always', 'struck', 'me', 'a', 'the', 'ultimate', 'movie', 'monster', ':', 'an', 'insatiably', 'hungry', ',', 'amoeba-like', 'mass', 'able', 'to', 'penetrate', 'virtually', 'any', 'safeguard', ',', 'capable', 'of', '--', 'a', 'a', 'doomed', 'doctor', 'chillingly', 'describes', 'it', '--', \"''\", 'assimilating', 'flesh', 'on', 'contact', '.', 'Snide', 'comparison', 'to', 'gelatin', 'be', 'damned', ',', 'it', \"'s\", 'a', 'concept', 'with', 'the', 'most', 'devastating', 'of', 'potential', 'consequence', ',', 'not', 'unlike', 'the', 'grey', 'goo', 'scenario', 'proposed', 'by', 'technological', 'theorist', 'fearful', 'of', 'artificial', 'intelligence', 'run', 'rampant', '.']\n"
     ]
    }
   ],
   "source": [
    "text_5=WordNetLemmatizer()\n",
    "b=[lemmatizer.lemmatize(word) for word in text_3]\n",
    "print(b)"
   ]
  },
  {
   "cell_type": "code",
   "execution_count": 141,
   "id": "c41ce60b-98be-4b04-b899-5ef3875ed42a",
   "metadata": {},
   "outputs": [
    {
     "name": "stdout",
     "output_type": "stream",
     "text": [
      "Counter({'of': 4, 'the': 3, 'as': 2, 'to': 2, 'a': 2, 'it': 2, 'has': 1, 'me': 1, 'an': 1, 'any': 1, 'on': 1, 'be': 1, 'with': 1, 'most': 1, 'not': 1, 'by': 1})\n"
     ]
    }
   ],
   "source": [
    "text_6=Counter([word for word in text_3 if word in text_4])\n",
    "print(text_6)"
   ]
  },
  {
   "cell_type": "code",
   "execution_count": null,
   "id": "9f1d3ab9-b2dc-4cef-93b4-6836e7550497",
   "metadata": {},
   "outputs": [],
   "source": []
  }
 ],
 "metadata": {
  "kernelspec": {
   "display_name": "Python [conda env:base] *",
   "language": "python",
   "name": "conda-base-py"
  },
  "language_info": {
   "codemirror_mode": {
    "name": "ipython",
    "version": 3
   },
   "file_extension": ".py",
   "mimetype": "text/x-python",
   "name": "python",
   "nbconvert_exporter": "python",
   "pygments_lexer": "ipython3",
   "version": "3.12.7"
  }
 },
 "nbformat": 4,
 "nbformat_minor": 5
}
