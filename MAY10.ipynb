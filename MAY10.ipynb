{
 "cells": [
  {
   "cell_type": "code",
   "execution_count": null,
   "id": "e50924b5-60a2-4122-939a-2d8c144588fc",
   "metadata": {},
   "outputs": [],
   "source": [
    "#Create an empty list (two ways)\n",
    "#Concatenate with [5,6,7,8]\n",
    "#add 8,9,1,5,6,7,8,1 elements to that list\n",
    "#Find frequency of 8 (count)\n",
    "#find the mean of the list\n",
    "#find sum (List) + min + Max \n",
    "#Find median of the list\n",
    "#remove duplicates from list and give output in the format of tuple"
   ]
  },
  {
   "cell_type": "code",
   "execution_count": 228,
   "id": "ec924f47-74c5-461f-b7fb-750b564abf4d",
   "metadata": {},
   "outputs": [
    {
     "name": "stdout",
     "output_type": "stream",
     "text": [
      "[]\n",
      "[5, 6, 7, 8, 8, 9, 1, 5, 6, 7, 8, 1]\n",
      "3\n",
      "(1, 5, 6, 7, 8, 9)\n",
      "5.625\n",
      "55\n"
     ]
    }
   ],
   "source": [
    "#Concatenate with [5,6,7,8]\n",
    "#add 8,9,1,5,6,7,8,1 elements to that list\n",
    "o=[]\n",
    "print(o)\n",
    "a=[5,6,7,8]\n",
    "b=[8,9,1,5,6,7,8,1]\n",
    "c=a.extend(b)\n",
    "print(a)\n",
    "d=(a.count(8))\n",
    "print(d)\n",
    "e=[5,6,7,8]\n",
    "f=[8,9,1,5,6,7,8,1]\n",
    "g=set(e+f)\n",
    "print(tuple(g))\n",
    "h=sum(b)/len(b)\n",
    "print(h)\n",
    "i=sum(b)+min(b)+max(b)\n",
    "print(i)"
   ]
  },
  {
   "cell_type": "code",
   "execution_count": 234,
   "id": "b8f2f1f5-aef0-47bb-817d-8eb01fc1eec3",
   "metadata": {},
   "outputs": [
    {
     "name": "stdout",
     "output_type": "stream",
     "text": [
      "science\n",
      "retupmoC\n"
     ]
    }
   ],
   "source": [
    "#a = [1,2,3,4,[100,101,102,\"Computer_science\"],200,203]\n",
    "#Extract\n",
    "#science\n",
    "#computer\n",
    "a=[1,2,3,4,[100,101,102,\"Computer_science\"],200,203]\n",
    "print(a[4][3][9:])\n",
    "print(a[4][3][0:8][::-1])\n"
   ]
  },
  {
   "cell_type": "code",
   "execution_count": 591,
   "id": "4987f902-675c-472f-a90c-dbceea1fe79f",
   "metadata": {},
   "outputs": [
    {
     "name": "stdout",
     "output_type": "stream",
     "text": [
      "666\n",
      "102\n",
      "777\n",
      "201\n",
      "999\n"
     ]
    }
   ],
   "source": [
    "#a = [1,2,3,4,[101,102,103,[201,202,[999]], 666, 777]]\n",
    "#Extract\n",
    "#666\n",
    "#201\n",
    "#102\n",
    "#999\n",
    "#777\n",
    "a=[1,2,3,4,[101,102,103,[201,202,[999]], 666, 777]]\n",
    "print(a[4][-2])\n",
    "print(a[4][1])\n",
    "print(a[4][-1])\n",
    "print(a[4][3][0])\n",
    "print(a[4][3][2][0])"
   ]
  },
  {
   "cell_type": "code",
   "execution_count": 230,
   "id": "a60d11f6-5d4c-4b0b-86d9-a976382dd33c",
   "metadata": {},
   "outputs": [
    {
     "name": "stdout",
     "output_type": "stream",
     "text": [
      "11\n",
      "6666\n",
      "6666\n",
      "7777\n",
      "7777\n",
      "222\n",
      "7777\n"
     ]
    }
   ],
   "source": [
    "#Li1 = [1,2,3,4,5,[11,22,33,44,55,[111,222,333,444],6666,7777],7777]\n",
    "#Output Prediction \n",
    "#print(Li1[5][0])\n",
    "#print(Li1[5][6])\n",
    "#print(Li1[5][-2])\n",
    "#print(Li1[5][7])\n",
    "#print(Li1[6])\n",
    "#print(Li1[5][5][1])\n",
    "#print(Li1[-2][-1])\n",
    "#print(Li1[2][2:4])\n",
    "Li1 = [1,2,3,4,5,[11,22,33,44,55,[111,222,333,444],6666,7777],7777]\n",
    "print(Li1[5][0])\n",
    "print(Li1[5][-2])\n",
    "print(Li1[5][6])\n",
    "print(Li1[5][7])\n",
    "print(Li1[6])\n",
    "print(Li1[5][5][1])\n",
    "print(Li1[-2][-1])"
   ]
  },
  {
   "cell_type": "code",
   "execution_count": 587,
   "id": "548d8c47-4e42-449c-9d24-3b71f1c91f6b",
   "metadata": {},
   "outputs": [
    {
     "name": "stdout",
     "output_type": "stream",
     "text": [
      "thon\n",
      "ll\n"
     ]
    }
   ],
   "source": [
    "#Li1 = [2,3,\"python\",\"hello\",4,5,0]  \n",
    "#Extract\n",
    "#ll\n",
    "#thon\n",
    "a=[2,3,\"python\",\"hello\",4,5,0]\n",
    "b=a[2]\n",
    "c=len(b)//2\n",
    "d=c-1\n",
    "print(b[d:])\n",
    "e=a[3]\n",
    "f=len(e)//2\n",
    "print(e[f:-1])"
   ]
  },
  {
   "cell_type": "code",
   "execution_count": 188,
   "id": "e9f738a5-6f93-4a01-b195-9277f7e3144b",
   "metadata": {},
   "outputs": [
    {
     "name": "stdout",
     "output_type": "stream",
     "text": [
      "5\n",
      "56\n",
      "222\n",
      "50000\n",
      "5555\n",
      "put\n",
      "on\n",
      "333\n",
      "3333\n",
      "7777\n"
     ]
    }
   ],
   "source": [
    "#Li1 = [2,3,4,5,[45,56,67,78,[111,222,333,[5555,3333,[10000,50000,\"python\",\"computer\"],1111,7777,8888],444,555,666,777],89,23,34]]\n",
    "#666\n",
    "#89\n",
    "a=[2,3,4,5,[45,56,67,78,[111,222,333,[5555,3333,[10000,50000,\"python\",\"computer\"],1111,7777,8888],444,555,666,777],89,23,34]]\n",
    "print(a[3])\n",
    "print(a[4][1])\n",
    "print(a[4][4][1])\n",
    "print(a[4][4][3][2][1])\n",
    "print(a[4][4][3][0])\n",
    "print(a[4][4][3][2][3][3:6])\n",
    "print(a[4][4][3][2][2][4:])\n",
    "print(a[4][4][2])\n",
    "print(a[4][4][3][1])\n",
    "print(a[4][4][3][4])"
   ]
  },
  {
   "cell_type": "code",
   "execution_count": 45,
   "id": "a758b6e8-2658-4689-8f25-27253031eb38",
   "metadata": {},
   "outputs": [
    {
     "name": "stdout",
     "output_type": "stream",
     "text": [
      "(1, 4, 5, 6, 7, 8, 9)\n",
      "(1, 4, 5, 6, 7, 8, 5, 6, 7, 8, 9, 1, 4, 5, 6, 7, 8, 5, 6, 7, 8, 9, 1, 4, 5, 6, 7, 8, 5, 6, 7, 8, 9)\n",
      "6\n"
     ]
    }
   ],
   "source": [
    "#Create two tuples (1,4,5,6,7,8) (5,6,7,8,9)\n",
    "#Find the common elements between two tuples\n",
    "#Concatenate both tuples and remove duplicates from tuple\n",
    "#Find the index value of 9 (after concatenation)\n",
    "#multiply above elements 3 times\n",
    "a=(1,4,5,6,7,8)\n",
    "b=(5,6,7,8,9)\n",
    "c=a+b\n",
    "d=tuple(set(c))\n",
    "print(d)\n",
    "e=c*3\n",
    "print(e)\n",
    "f=list(c)\n",
    "print(d.index(9))"
   ]
  },
  {
   "cell_type": "code",
   "execution_count": 172,
   "id": "e99e912a-b3a8-43bf-95c0-9cba9dd85d07",
   "metadata": {},
   "outputs": [
    {
     "name": "stdout",
     "output_type": "stream",
     "text": [
      "set() set()\n",
      "{0, 1, 2, 3, 4, 5, 7, 8, 9}\n",
      "{0, 4, 5, 6}\n",
      "False\n",
      "False\n",
      "{0, 1, 2, 3, 4, 5, 7, 9}\n",
      "{1, 2, 3, 4, 5, 7, 9}\n",
      "{4, 5, 6}\n",
      "{1, 2, 3, 4, 5, 6, 7, 9}\n"
     ]
    }
   ],
   "source": [
    "#Create two empty sets\n",
    "#update set1 with 7,8,9,1,2,3,4,5,0\n",
    "#update set2 with 4,5,6,0\n",
    "#check whether set2 is subset of set1 or no ?\n",
    "#check whether both have common elements are no ?\n",
    "#remove 8 from set 1 and set 2 ==> find the inferences\n",
    "#discard 0 from set1 and set2 \n",
    "#find collection of both sets ===> set1 and set2\n",
    "a=set()\n",
    "b=set()\n",
    "print(a,b)\n",
    "a.update({7,8,9,1,2,3,4,5,0})\n",
    "print(a)\n",
    "b.update({4,5,6,0})\n",
    "print(b)\n",
    "c=a.issubset(b) \n",
    "print(c)\n",
    "d=a.issuperset(b)\n",
    "print(d)\n",
    "e=a.remove(8)\n",
    "print(a)\n",
    "f=a.discard(0)\n",
    "g=b.discard(0)\n",
    "print(a)\n",
    "print(b)\n",
    "h=a.union(b)\n",
    "print(h)"
   ]
  },
  {
   "cell_type": "code",
   "execution_count": 196,
   "id": "c11ee66d-1ed3-48bf-8efa-a280e463c08c",
   "metadata": {},
   "outputs": [
    {
     "name": "stdout",
     "output_type": "stream",
     "text": [
      "bobtn\n",
      "Algebra\n",
      "(1, 2, 3)\n",
      "20.0\n"
     ]
    }
   ],
   "source": [
    "#create a dictionary\n",
    "#{1:[\"english\",\"maths\",\"science\"], 2:[10,20,30], 3:[\"bio-botany\",\"bio-zoology\",\"Algebra\"]}\n",
    "#Extract \"bobtn\" from above dictionary\n",
    "#Extract \"arbeg\" from above dictionary\n",
    "#print all keys in dictionary and convert it into tuple\n",
    "#Find the average of all numbers available under key \"2\"\n",
    "a={1:[\"english\",\"maths\",\"science\"], 2:[10,20,30], 3:[\"bio-botany\",\"bio-zoology\",\"Algebra\"]}\n",
    "print(a[3][0][::2])\n",
    "print(a[3][-1])\n",
    "b=tuple(a)\n",
    "print(b)\n",
    "c=a[2]\n",
    "d=sum(c)/len(c)\n",
    "print(d)"
   ]
  },
  {
   "cell_type": "code",
   "execution_count": null,
   "id": "19838a85-5c90-422e-96bf-40b5d5bc6def",
   "metadata": {},
   "outputs": [],
   "source": [
    "a=input(\"enter a string:\")\n",
    "print(len(a))"
   ]
  },
  {
   "cell_type": "code",
   "execution_count": null,
   "id": "2de0a57e-b0a4-4310-b474-106fdf61844a",
   "metadata": {},
   "outputs": [],
   "source": []
  },
  {
   "cell_type": "code",
   "execution_count": null,
   "id": "c150dba9-7581-4b8b-96bd-91021c7da2ac",
   "metadata": {},
   "outputs": [],
   "source": []
  }
 ],
 "metadata": {
  "kernelspec": {
   "display_name": "Python [conda env:base] *",
   "language": "python",
   "name": "conda-base-py"
  },
  "language_info": {
   "codemirror_mode": {
    "name": "ipython",
    "version": 3
   },
   "file_extension": ".py",
   "mimetype": "text/x-python",
   "name": "python",
   "nbconvert_exporter": "python",
   "pygments_lexer": "ipython3",
   "version": "3.12.7"
  }
 },
 "nbformat": 4,
 "nbformat_minor": 5
}
