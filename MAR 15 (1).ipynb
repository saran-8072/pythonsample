{
 "cells": [
  {
   "cell_type": "markdown",
   "id": "79ba8ab9-6609-49c4-9d39-39bd68d2832e",
   "metadata": {},
   "source": [
    "# Inbulit function "
   ]
  },
  {
   "cell_type": "code",
   "execution_count": 13,
   "id": "376277d1-11e7-4a46-8f1f-da91e616172f",
   "metadata": {},
   "outputs": [
    {
     "name": "stdout",
     "output_type": "stream",
     "text": [
      "0\n",
      "1\n",
      "2\n",
      "3\n",
      "4\n",
      "5\n",
      "6\n",
      "7\n"
     ]
    }
   ],
   "source": [
    "x=range(8)\n",
    "for i in x:\n",
    "   print(i)"
   ]
  },
  {
   "cell_type": "code",
   "execution_count": 15,
   "id": "4466dbc1-13f7-4889-92a2-ce8d90dde111",
   "metadata": {},
   "outputs": [
    {
     "name": "stdout",
     "output_type": "stream",
     "text": [
      "2\n",
      "3\n",
      "4\n",
      "5\n",
      "6\n",
      "7\n",
      "8\n",
      "9\n"
     ]
    }
   ],
   "source": [
    "x=range(2,10)\n",
    "for i in x:\n",
    "    print(i)"
   ]
  },
  {
   "cell_type": "code",
   "execution_count": 19,
   "id": "04a62e80-2b48-49d8-ad2e-e37cacfb9cb2",
   "metadata": {},
   "outputs": [
    {
     "name": "stdout",
     "output_type": "stream",
     "text": [
      "7\n"
     ]
    }
   ],
   "source": [
    "x=[2,3,4,5,67,8,9]\n",
    "print(len(x))"
   ]
  },
  {
   "cell_type": "code",
   "execution_count": 23,
   "id": "3602c907-f5fb-4555-adc9-63c10f3ccd62",
   "metadata": {},
   "outputs": [
    {
     "name": "stdout",
     "output_type": "stream",
     "text": [
      "4\n"
     ]
    }
   ],
   "source": [
    "x=(\"a\",\"g\",\"h\",\"l\")\n",
    "print(len(x))"
   ]
  },
  {
   "cell_type": "code",
   "execution_count": 25,
   "id": "f8d1f4aa-97c9-440f-bcdd-4bcb1d1f05ed",
   "metadata": {},
   "outputs": [
    {
     "name": "stdout",
     "output_type": "stream",
     "text": [
      "90\n"
     ]
    }
   ],
   "source": [
    "x=[4,5,7,8,90,54]\n",
    "print(max(x))"
   ]
  },
  {
   "cell_type": "code",
   "execution_count": 29,
   "id": "fe39f22d-7a10-4f99-b410-8388f984ac18",
   "metadata": {},
   "outputs": [
    {
     "name": "stdout",
     "output_type": "stream",
     "text": [
      "21\n"
     ]
    }
   ],
   "source": [
    "x=[45,76,89,90,21]\n",
    "print(min(x))"
   ]
  },
  {
   "cell_type": "code",
   "execution_count": 31,
   "id": "7bbb168e-68b6-4a36-a4ed-4b89a5b055e6",
   "metadata": {},
   "outputs": [
    {
     "name": "stdout",
     "output_type": "stream",
     "text": [
      "John\n"
     ]
    }
   ],
   "source": [
    "x = (\"Mike\", \"John\", \"Vicky\")\n",
    "print(min(x))"
   ]
  },
  {
   "cell_type": "code",
   "execution_count": 37,
   "id": "7b0a01d6-acc8-4a52-8f39-cb99272a9be6",
   "metadata": {},
   "outputs": [
    {
     "name": "stdout",
     "output_type": "stream",
     "text": [
      "8\n"
     ]
    }
   ],
   "source": [
    "x=pow(2,3)\n",
    "print(x)"
   ]
  },
  {
   "cell_type": "code",
   "execution_count": 41,
   "id": "bad2e741-bdef-4a86-b4d4-3bdec8f8cf1f",
   "metadata": {},
   "outputs": [
    {
     "name": "stdout",
     "output_type": "stream",
     "text": [
      "2\n"
     ]
    }
   ],
   "source": [
    "x=pow(2,3,3)\n",
    "print(x)"
   ]
  },
  {
   "cell_type": "code",
   "execution_count": 45,
   "id": "76e1e42e-0cf0-4fc6-ac2c-d38815acf514",
   "metadata": {},
   "outputs": [
    {
     "name": "stdout",
     "output_type": "stream",
     "text": [
      "3\n"
     ]
    }
   ],
   "source": [
    "x=(2.678)\n",
    "print(round(x))"
   ]
  },
  {
   "cell_type": "code",
   "execution_count": 73,
   "id": "22363c2a-18ef-4b6b-9264-56bf251eea1e",
   "metadata": {},
   "outputs": [
    {
     "name": "stdout",
     "output_type": "stream",
     "text": [
      "('c', 'd', 'a', 'b,')\n"
     ]
    }
   ],
   "source": [
    "x=(\"c\",\"d\",\"a\",\"b,\")\n",
    "y=reversed(x)\n",
    "print(x)"
   ]
  },
  {
   "cell_type": "code",
   "execution_count": 69,
   "id": "a625a1db-8d6e-40b4-854e-ee6e314ad27a",
   "metadata": {},
   "outputs": [
    {
     "name": "stdout",
     "output_type": "stream",
     "text": [
      "['a', 'b', 'c', 'd']\n"
     ]
    }
   ],
   "source": [
    "x=(\"c\",\"d\",\"a\",\"b\")\n",
    "y=sorted(x)\n",
    "print(y)"
   ]
  },
  {
   "cell_type": "code",
   "execution_count": 75,
   "id": "3b820c4d-6be1-451c-883d-b4aca4a428f8",
   "metadata": {},
   "outputs": [
    {
     "name": "stdout",
     "output_type": "stream",
     "text": [
      "15\n"
     ]
    }
   ],
   "source": [
    "a = (1, 2, 3, 4, 5)\n",
    "x = sum(a)\n",
    "print(x)"
   ]
  },
  {
   "cell_type": "code",
   "execution_count": 79,
   "id": "d46749f1-f073-4b77-a63d-9bc92512de29",
   "metadata": {},
   "outputs": [
    {
     "name": "stdout",
     "output_type": "stream",
     "text": [
      "18\n"
     ]
    }
   ],
   "source": [
    "a = (1, 2, 3, 4, 5)\n",
    "x = sum(a,3)\n",
    "print(x)"
   ]
  },
  {
   "cell_type": "markdown",
   "id": "6ddf9ee9-c1e6-468e-8ae6-7e8fdc79155c",
   "metadata": {},
   "source": [
    "# bool()"
   ]
  },
  {
   "cell_type": "code",
   "execution_count": 7,
   "id": "1dedeec3-0228-4d7a-a019-9f722777f1a7",
   "metadata": {},
   "outputs": [
    {
     "name": "stdout",
     "output_type": "stream",
     "text": [
      "True\n"
     ]
    }
   ],
   "source": [
    "x=bool(1)\n",
    "print(x)"
   ]
  },
  {
   "cell_type": "code",
   "execution_count": 96,
   "id": "c2521439-c833-4fe2-9d95-daa32b76172c",
   "metadata": {},
   "outputs": [
    {
     "name": "stdout",
     "output_type": "stream",
     "text": [
      "True\n"
     ]
    }
   ],
   "source": [
    "x=bool(3)\n",
    "print(x)"
   ]
  },
  {
   "cell_type": "markdown",
   "id": "50ceaa7a-710a-48e0-8245-c595f7471925",
   "metadata": {},
   "source": [
    "# bytearray()"
   ]
  },
  {
   "cell_type": "code",
   "execution_count": 111,
   "id": "48e6f092-86e3-4f2f-a5e7-79fc54b0ca95",
   "metadata": {},
   "outputs": [
    {
     "name": "stdout",
     "output_type": "stream",
     "text": [
      "bytearray(b'\\x00\\x00\\x00\\x00\\x00')\n"
     ]
    }
   ],
   "source": [
    "x=bytearray(5)\n",
    "print(x)\n"
   ]
  },
  {
   "cell_type": "markdown",
   "id": "0808c03a-8725-401f-aa82-11e1a8e7a3e2",
   "metadata": {},
   "source": [
    "# dict()\n"
   ]
  },
  {
   "cell_type": "code",
   "execution_count": 116,
   "id": "d17e7808-064f-4df4-adfc-38f8794acc71",
   "metadata": {},
   "outputs": [
    {
     "name": "stdout",
     "output_type": "stream",
     "text": [
      "{'name': 'saran', 'age': 21, 'state': 'tn'}\n"
     ]
    }
   ],
   "source": [
    "x=dict(name=\"saran\",age=21,state=\"tn\")\n",
    "print(x)"
   ]
  },
  {
   "cell_type": "markdown",
   "id": "648fba07-6894-4fb3-8a6e-ae14c044660d",
   "metadata": {},
   "source": [
    "# vars()"
   ]
  },
  {
   "cell_type": "code",
   "execution_count": 134,
   "id": "72f326be-b451-4b95-af1e-ba12062d5287",
   "metadata": {},
   "outputs": [
    {
     "name": "stdout",
     "output_type": "stream",
     "text": [
      "{'__module__': '__main__', '__annotations__': {'name': 'saran', 'age': '21', 'dep': 'cse'}, '__dict__': <attribute '__dict__' of 'student' objects>, '__weakref__': <attribute '__weakref__' of 'student' objects>, '__doc__': None}\n"
     ]
    }
   ],
   "source": [
    "class student:\n",
    "    name:\"saran\"\n",
    "    age:\"21\"\n",
    "    dep:\"cse\"\n",
    "a=vars(student)\n",
    "print(a)\n",
    "    "
   ]
  },
  {
   "cell_type": "markdown",
   "id": "5ea3f904-1456-4bab-b0ea-ce0bdccec56a",
   "metadata": {},
   "source": [
    "# oct()"
   ]
  },
  {
   "cell_type": "code",
   "execution_count": 139,
   "id": "9d69dbbe-6a10-4f56-ae2d-1db376da28b7",
   "metadata": {},
   "outputs": [
    {
     "name": "stdout",
     "output_type": "stream",
     "text": [
      "0o10\n"
     ]
    }
   ],
   "source": [
    "x=oct(8)\n",
    "print(x)"
   ]
  },
  {
   "cell_type": "code",
   "execution_count": 141,
   "id": "5788c254-98af-4832-af54-56374a7dec8b",
   "metadata": {},
   "outputs": [
    {
     "name": "stdout",
     "output_type": "stream",
     "text": [
      "0o163\n"
     ]
    }
   ],
   "source": [
    "x=oct(115)\n",
    "print(x)"
   ]
  },
  {
   "cell_type": "markdown",
   "id": "b8cab318-b712-425e-a0cd-17dacb705764",
   "metadata": {},
   "source": [
    "# id()"
   ]
  },
  {
   "cell_type": "code",
   "execution_count": 144,
   "id": "f5447bb9-e06a-4119-a2a1-35f2ba8224fa",
   "metadata": {},
   "outputs": [
    {
     "name": "stdout",
     "output_type": "stream",
     "text": [
      "2391623703296\n"
     ]
    }
   ],
   "source": [
    "x=[\"saran\",\"kaumr\",\"ajay\"]\n",
    "print(id(x))"
   ]
  },
  {
   "cell_type": "markdown",
   "id": "111e06b6-69d7-4c77-8d13-8a488c388ae3",
   "metadata": {},
   "source": [
    "# set()"
   ]
  },
  {
   "cell_type": "code",
   "execution_count": 3,
   "id": "f83886ee-f564-4177-9181-1c4d041bd9f1",
   "metadata": {},
   "outputs": [
    {
     "name": "stdout",
     "output_type": "stream",
     "text": [
      "{'saran', 'kumar'}\n"
     ]
    }
   ],
   "source": [
    "a=set((\"saran\",\"kumar\"))\n",
    "print(a)"
   ]
  },
  {
   "cell_type": "markdown",
   "id": "793010b8-0814-4688-b8ad-741fea983b90",
   "metadata": {},
   "source": [
    "a=set((2,3,4,5,6))\n",
    "print(a)"
   ]
  },
  {
   "cell_type": "markdown",
   "id": "c20eed7f-9601-467e-83a9-37f84e211a57",
   "metadata": {},
   "source": [
    "# slice() # return every three time "
   ]
  },
  {
   "cell_type": "code",
   "execution_count": 5,
   "id": "2c48a198-a641-4654-bd48-2ca1ff3e0f0e",
   "metadata": {},
   "outputs": [
    {
     "name": "stdout",
     "output_type": "stream",
     "text": [
      "('a', 'f', 'g', 'h')\n"
     ]
    }
   ],
   "source": [
    "a=(\"a\",\"f\",\"g\",\"h\",\"j\",\"k\")\n",
    "b=slice(4)\n",
    "print(a[b])"
   ]
  },
  {
   "cell_type": "markdown",
   "id": "293d8cbc-129e-45e1-a181-f583ac29e07a",
   "metadata": {},
   "source": [
    "# TASK"
   ]
  },
  {
   "cell_type": "code",
   "execution_count": 14,
   "id": "cf4059e2-96f8-4cde-a123-debc470ebb0c",
   "metadata": {},
   "outputs": [
    {
     "name": "stdin",
     "output_type": "stream",
     "text": [
      "Enter a radius of circle: 20\n"
     ]
    },
    {
     "data": {
      "text/plain": [
       "1256.0"
      ]
     },
     "execution_count": 14,
     "metadata": {},
     "output_type": "execute_result"
    }
   ],
   "source": [
    "# Area of the circle\n",
    "def area_of_the_circle():\n",
    "    r=float(input(\"Enter a radius of circle:\"))\n",
    "    area=3.14*r*r\n",
    "    return(area)\n",
    "area_of_the_circle()"
   ]
  },
  {
   "cell_type": "code",
   "execution_count": 4,
   "id": "748b5740-d485-4329-88c3-9927917aed78",
   "metadata": {},
   "outputs": [
    {
     "name": "stdin",
     "output_type": "stream",
     "text": [
      "enter a radius of circle: 10\n",
      "enter a length of cone: 15\n"
     ]
    },
    {
     "data": {
      "text/plain": [
       "471.00000000000006"
      ]
     },
     "execution_count": 4,
     "metadata": {},
     "output_type": "execute_result"
    }
   ],
   "source": [
    "# Area of the cone \n",
    "def area_of_the_cone():\n",
    "    r=float(input(\"enter a radius of circle:\"))\n",
    "    l=float(input(\"enter a length of cone:\"))\n",
    "    area=3.14*r*l\n",
    "    return(area)\n",
    "area_of_the_cone()    "
   ]
  },
  {
   "cell_type": "code",
   "execution_count": 18,
   "id": "bc11a791-470a-4957-97f0-02425214762f",
   "metadata": {},
   "outputs": [
    {
     "name": "stdin",
     "output_type": "stream",
     "text": [
      "enter a area of square: 5\n"
     ]
    },
    {
     "data": {
      "text/plain": [
       "25.0"
      ]
     },
     "execution_count": 18,
     "metadata": {},
     "output_type": "execute_result"
    }
   ],
   "source": [
    "# Area of the square\n",
    "def area_of_the_square():\n",
    "    a=float(input(\"enter a area of square:\"))\n",
    "    area=a*a\n",
    "    return(area)\n",
    "area_of_the_square()    "
   ]
  },
  {
   "cell_type": "code",
   "execution_count": 20,
   "id": "4341264f-f6b9-4591-9e83-c1b0baa3b436",
   "metadata": {},
   "outputs": [
    {
     "name": "stdin",
     "output_type": "stream",
     "text": [
      "enter a length of rectangle: 10\n",
      "enter a breath rectangle: 5\n"
     ]
    },
    {
     "data": {
      "text/plain": [
       "50.0"
      ]
     },
     "execution_count": 20,
     "metadata": {},
     "output_type": "execute_result"
    }
   ],
   "source": [
    "# area of the rectangle\n",
    "def area_of_the_rectangle():\n",
    "    l=float(input(\"enter a length of rectangle:\"))\n",
    "    b=float(input(\"enter a breath rectangle:\"))\n",
    "    area=l*b\n",
    "    return(area)\n",
    "area_of_the_rectangle()"
   ]
  },
  {
   "cell_type": "code",
   "execution_count": 22,
   "id": "302996c0-842d-4f34-b1de-e032114f6434",
   "metadata": {},
   "outputs": [
    {
     "name": "stdin",
     "output_type": "stream",
     "text": [
      "enter a parameter of radius: 10\n"
     ]
    },
    {
     "data": {
      "text/plain": [
       "62.800000000000004"
      ]
     },
     "execution_count": 22,
     "metadata": {},
     "output_type": "execute_result"
    }
   ],
   "source": [
    "# parameter of circle\n",
    "def parameter_of_circle():\n",
    "    r=float(input(\"enter a parameter of radius:\"))\n",
    "    area=2*3.14*r\n",
    "    return(area)\n",
    "parameter_of_circle()    \n"
   ]
  },
  {
   "cell_type": "markdown",
   "id": "ac45350d-00ae-4a29-a131-b6d44a184f3a",
   "metadata": {},
   "source": [
    "# INDEXING\n"
   ]
  },
  {
   "cell_type": "code",
   "execution_count": 24,
   "id": "9b309e1f-2a89-4d73-8c6c-18b29d08cb79",
   "metadata": {},
   "outputs": [
    {
     "name": "stdout",
     "output_type": "stream",
     "text": [
      "er science\n"
     ]
    }
   ],
   "source": [
    "# er science\n",
    "a=\"computer science\"\n",
    "print(a[6:16])"
   ]
  },
  {
   "cell_type": "code",
   "execution_count": 26,
   "id": "d51c4f8c-77f6-47e2-9098-f2883ee8c054",
   "metadata": {},
   "outputs": [
    {
     "name": "stdout",
     "output_type": "stream",
     "text": [
      "ter sci\n"
     ]
    }
   ],
   "source": [
    "# ter sci\n",
    "a=\"computer science\"\n",
    "print(a[5:12])"
   ]
  },
  {
   "cell_type": "code",
   "execution_count": 28,
   "id": "308df54b-5e13-451d-a42e-b42b52706c7d",
   "metadata": {},
   "outputs": [
    {
     "name": "stdout",
     "output_type": "stream",
     "text": [
      "computer science\n"
     ]
    }
   ],
   "source": [
    "# computer science\n",
    "a=\"computer science\"\n",
    "print(a[0:17])"
   ]
  },
  {
   "cell_type": "code",
   "execution_count": 30,
   "id": "672968e6-9eb5-4c17-896e-9129d2b877dc",
   "metadata": {},
   "outputs": [
    {
     "name": "stdout",
     "output_type": "stream",
     "text": [
      "ci\n"
     ]
    }
   ],
   "source": [
    "# ci\n",
    "a=\"computer science\"\n",
    "print(a[10:12])"
   ]
  },
  {
   "cell_type": "code",
   "execution_count": 32,
   "id": "5af45313-b9ae-483b-a214-4f32f740cbce",
   "metadata": {},
   "outputs": [
    {
     "name": "stdout",
     "output_type": "stream",
     "text": [
      "omput\n"
     ]
    }
   ],
   "source": [
    "# omput\n",
    "a=\"computer science\"\n",
    "print(a[1:6])"
   ]
  },
  {
   "cell_type": "code",
   "execution_count": 40,
   "id": "82b20b6d-ab07-44e1-9ee7-98ae26dace4e",
   "metadata": {},
   "outputs": [
    {
     "name": "stdout",
     "output_type": "stream",
     "text": [
      "omput\n"
     ]
    }
   ],
   "source": [
    "a=\"computer science\"\n",
    "print(a[-15:-10])"
   ]
  },
  {
   "cell_type": "code",
   "execution_count": 42,
   "id": "05d75a84-d69a-4059-9d4d-4ce61f7115a9",
   "metadata": {},
   "outputs": [
    {
     "name": "stdout",
     "output_type": "stream",
     "text": [
      "put\n"
     ]
    }
   ],
   "source": [
    "# put\n",
    "a=\"computer science\"\n",
    "print(a[3:6])"
   ]
  },
  {
   "cell_type": "code",
   "execution_count": 44,
   "id": "0cabc66f-451d-4103-910b-9859bed0f2d2",
   "metadata": {},
   "outputs": [
    {
     "name": "stdout",
     "output_type": "stream",
     "text": [
      "put\n"
     ]
    }
   ],
   "source": [
    "a=\"computer science\"\n",
    "print(a[-13:-10])"
   ]
  },
  {
   "cell_type": "code",
   "execution_count": 46,
   "id": "4496ba06-9015-4cc3-baa6-0bb52233155d",
   "metadata": {},
   "outputs": [
    {
     "name": "stdout",
     "output_type": "stream",
     "text": [
      "cience\n"
     ]
    }
   ],
   "source": [
    "# cience\n",
    "a=\"computer science\"\n",
    "print(a[10:16])"
   ]
  },
  {
   "cell_type": "code",
   "execution_count": 66,
   "id": "6d16d21f-397a-468a-b7d3-8e5960051c88",
   "metadata": {},
   "outputs": [
    {
     "name": "stdout",
     "output_type": "stream",
     "text": [
      "cience\n"
     ]
    }
   ],
   "source": [
    "a=\"computer science\"\n",
    "print(a[-6:16])"
   ]
  },
  {
   "cell_type": "code",
   "execution_count": 68,
   "id": "5314b4da-4a55-4f95-a851-02f870ddfd23",
   "metadata": {},
   "outputs": [
    {
     "name": "stdout",
     "output_type": "stream",
     "text": [
      "mpu\n"
     ]
    }
   ],
   "source": [
    "# mpu\n",
    "a=\"computer science\"\n",
    "print(a[2:5])"
   ]
  },
  {
   "cell_type": "code",
   "execution_count": 70,
   "id": "d6159a8d-a9f2-4a89-a541-ef1cd81cf4c6",
   "metadata": {},
   "outputs": [
    {
     "name": "stdout",
     "output_type": "stream",
     "text": [
      "mpu\n"
     ]
    }
   ],
   "source": [
    "a=\"computer science\"\n",
    "print(a[-14:-11])"
   ]
  },
  {
   "cell_type": "code",
   "execution_count": 72,
   "id": "ba57ae62-23c6-4ae5-a0b0-5c1aa83bd061",
   "metadata": {},
   "outputs": [
    {
     "name": "stdout",
     "output_type": "stream",
     "text": [
      "comput\n"
     ]
    }
   ],
   "source": [
    "# comput\n",
    "a=\"computer science\"\n",
    "print(a[0:6])"
   ]
  },
  {
   "cell_type": "code",
   "execution_count": 98,
   "id": "8b404915-ac94-4640-aa7e-03bc434af890",
   "metadata": {},
   "outputs": [
    {
     "name": "stdout",
     "output_type": "stream",
     "text": [
      "comput\n"
     ]
    }
   ],
   "source": [
    "a=\"computer science\"\n",
    "print(a[-17:-10])"
   ]
  },
  {
   "cell_type": "code",
   "execution_count": 102,
   "id": "fedd2f44-97da-45cd-b8b6-1d21719e9026",
   "metadata": {},
   "outputs": [
    {
     "name": "stdout",
     "output_type": "stream",
     "text": [
      "scien\n"
     ]
    }
   ],
   "source": [
    "# scien\n",
    "a=\"computer science\"\n",
    "print(a[9:14])"
   ]
  },
  {
   "cell_type": "code",
   "execution_count": 106,
   "id": "f04248bc-a9d5-4c31-95cd-fac7996da87c",
   "metadata": {},
   "outputs": [
    {
     "name": "stdout",
     "output_type": "stream",
     "text": [
      "scien\n"
     ]
    }
   ],
   "source": [
    "a=\"computer science\"\n",
    "print(a[-7:-2])"
   ]
  },
  {
   "cell_type": "code",
   "execution_count": 110,
   "id": "b5a5f0e6-9dcf-48fa-8d68-1f63433909d0",
   "metadata": {},
   "outputs": [
    {
     "name": "stdout",
     "output_type": "stream",
     "text": [
      "ience\n"
     ]
    }
   ],
   "source": [
    "# ience\n",
    "a=\"computer science\"\n",
    "print(a[11:16])"
   ]
  },
  {
   "cell_type": "code",
   "execution_count": 138,
   "id": "ea09c5e5-0dc8-4bdf-8690-8d5779296176",
   "metadata": {},
   "outputs": [
    {
     "name": "stdout",
     "output_type": "stream",
     "text": [
      "ience\n"
     ]
    }
   ],
   "source": [
    "a=\"computer science\"\n",
    "print(a[-5:16])"
   ]
  },
  {
   "cell_type": "code",
   "execution_count": 140,
   "id": "81ec8d44-baa4-4a94-8702-2603168f2099",
   "metadata": {},
   "outputs": [
    {
     "name": "stdout",
     "output_type": "stream",
     "text": [
      "omputer sci\n"
     ]
    }
   ],
   "source": [
    "# omputer sci\n",
    "a=\"computer science\"\n",
    "print(a[1:12])"
   ]
  },
  {
   "cell_type": "code",
   "execution_count": 142,
   "id": "6351730f-b5bd-4978-9db2-38b085d1808e",
   "metadata": {},
   "outputs": [
    {
     "name": "stdout",
     "output_type": "stream",
     "text": [
      "omputer sci\n"
     ]
    }
   ],
   "source": [
    "a=\"computer science\"\n",
    "print(a[-15:-4])"
   ]
  },
  {
   "cell_type": "code",
   "execution_count": 144,
   "id": "822460df-31ae-4a67-ab0c-fcb3ca01f7e8",
   "metadata": {},
   "outputs": [
    {
     "name": "stdout",
     "output_type": "stream",
     "text": [
      "er sc\n"
     ]
    }
   ],
   "source": [
    "# er sc\n",
    "a=\"computer science\"\n",
    "print(a[6:11])"
   ]
  },
  {
   "cell_type": "code",
   "execution_count": 146,
   "id": "c55e7c56-42d6-4164-bc39-e3c594e1048c",
   "metadata": {},
   "outputs": [
    {
     "name": "stdout",
     "output_type": "stream",
     "text": [
      "er sci\n"
     ]
    }
   ],
   "source": [
    "a=\"computer science\"\n",
    "print(a[-10:-4])"
   ]
  },
  {
   "cell_type": "code",
   "execution_count": 148,
   "id": "9e1777df-5b5a-4fe8-a51f-c543f2085b01",
   "metadata": {},
   "outputs": [
    {
     "name": "stdout",
     "output_type": "stream",
     "text": [
      "er sc\n"
     ]
    }
   ],
   "source": [
    "# er sc\n",
    "a=\"computer science\"\n",
    "print(a[6:11])"
   ]
  },
  {
   "cell_type": "code",
   "execution_count": 150,
   "id": "870166ae-c58e-49ab-8d79-f0098bced256",
   "metadata": {},
   "outputs": [
    {
     "name": "stdout",
     "output_type": "stream",
     "text": [
      "er sc\n"
     ]
    }
   ],
   "source": [
    "a=\"computer science\"\n",
    "print(a[-10:-5])"
   ]
  },
  {
   "cell_type": "code",
   "execution_count": 2,
   "id": "0461b02b-912d-408e-9f37-453c0f280792",
   "metadata": {},
   "outputs": [],
   "source": [
    "# information technology"
   ]
  },
  {
   "cell_type": "code",
   "execution_count": 10,
   "id": "85c06a44-9e11-4238-b8d4-964d9dbb10b8",
   "metadata": {},
   "outputs": [
    {
     "name": "stdout",
     "output_type": "stream",
     "text": [
      "formation technology\n",
      "formation technology\n"
     ]
    }
   ],
   "source": [
    "# formation technology\n",
    "a=\"Information technology\"\n",
    "print(a[2:22])\n",
    "print(a[-20:22])"
   ]
  },
  {
   "cell_type": "code",
   "execution_count": 16,
   "id": "12d2f4d4-9550-4bca-8596-1d4d98d242ac",
   "metadata": {},
   "outputs": [
    {
     "name": "stdout",
     "output_type": "stream",
     "text": [
      "nformation technology\n",
      "nformation technology\n"
     ]
    }
   ],
   "source": [
    "#nformation technology\n",
    "a=\"Information technology\"\n",
    "print(a[1:22])\n",
    "print(a[-21:22])"
   ]
  },
  {
   "cell_type": "code",
   "execution_count": 18,
   "id": "b8a6f34a-41cb-4902-8705-d63e90dc3efc",
   "metadata": {},
   "outputs": [
    {
     "name": "stdout",
     "output_type": "stream",
     "text": [
      "mation tech\n",
      "mation tech\n"
     ]
    }
   ],
   "source": [
    "#mation tech\n",
    "a=\"Information technology\"\n",
    "print(a[5:16])\n",
    "print(a[-17:-6])"
   ]
  },
  {
   "cell_type": "code",
   "execution_count": 20,
   "id": "4f4921ed-59fe-4f15-b6e0-bcf726e0311b",
   "metadata": {},
   "outputs": [
    {
     "name": "stdout",
     "output_type": "stream",
     "text": [
      "Informati\n",
      "Informati\n"
     ]
    }
   ],
   "source": [
    "# informati\n",
    "a=\"Information technology\"\n",
    "print(a[0:9])\n",
    "print(a[0:-13])"
   ]
  },
  {
   "cell_type": "code",
   "execution_count": 24,
   "id": "55a185c2-8c59-4c1b-9732-ca3564828cac",
   "metadata": {},
   "outputs": [
    {
     "name": "stdout",
     "output_type": "stream",
     "text": [
      "echnology\n",
      "echnology\n"
     ]
    }
   ],
   "source": [
    "#echnology\n",
    "a=\"Information technology\"\n",
    "print(a[13:22])\n",
    "print(a[-9:22])"
   ]
  },
  {
   "cell_type": "code",
   "execution_count": 26,
   "id": "f4878f72-45bc-41cf-acc9-13e31ec6b517",
   "metadata": {},
   "outputs": [
    {
     "name": "stdout",
     "output_type": "stream",
     "text": [
      "orm\n",
      "orm\n"
     ]
    }
   ],
   "source": [
    "#orm\n",
    "a=\"Information technology\"\n",
    "print(a[3:6])\n",
    "print(a[-19:-16])"
   ]
  },
  {
   "cell_type": "code",
   "execution_count": 32,
   "id": "53746347-dcdb-49bb-bf77-04fdbd7bd7ef",
   "metadata": {},
   "outputs": [
    {
     "name": "stdout",
     "output_type": "stream",
     "text": [
      "orma\n",
      "orma\n"
     ]
    }
   ],
   "source": [
    "# orma\n",
    "a=\"Information technology\"\n",
    "print(a[3:7])\n",
    "print(a[-19:-15])"
   ]
  },
  {
   "cell_type": "code",
   "execution_count": 34,
   "id": "f7ec8f36-52f2-4c8a-9194-51ff22a60d14",
   "metadata": {},
   "outputs": [
    {
     "name": "stdout",
     "output_type": "stream",
     "text": [
      "olo\n",
      "olo\n"
     ]
    }
   ],
   "source": [
    "# olo\n",
    "a=\"Information technology\"\n",
    "print(a[17:20])\n",
    "print(a[-5:-2])"
   ]
  },
  {
   "cell_type": "code",
   "execution_count": 36,
   "id": "a6d0bcb0-51c7-4433-8253-29af67878eb3",
   "metadata": {},
   "outputs": [],
   "source": [
    "# Google chrome browser"
   ]
  },
  {
   "cell_type": "code",
   "execution_count": 40,
   "id": "61c90b8e-7caa-4e8f-8ed9-bf7a2530dc93",
   "metadata": {},
   "outputs": [
    {
     "name": "stdout",
     "output_type": "stream",
     "text": [
      "gle chrome br\n",
      "gle chrome br\n"
     ]
    }
   ],
   "source": [
    "# gle chrome br\n",
    "a=\"Google chrome browser\"\n",
    "print(a[3:16])\n",
    "print(a[-18:-5])"
   ]
  },
  {
   "cell_type": "code",
   "execution_count": 42,
   "id": "bb08b3d4-8e24-4538-ba15-c23340d4ee2e",
   "metadata": {},
   "outputs": [
    {
     "name": "stdout",
     "output_type": "stream",
     "text": [
      "oo\n",
      "oo\n"
     ]
    }
   ],
   "source": [
    "# oo\n",
    "a=\"Google chrome browser\"\n",
    "print(a[1:3])\n",
    "print(a[-20:-18])"
   ]
  },
  {
   "cell_type": "code",
   "execution_count": 50,
   "id": "9bf3df11-8abf-4fba-8bb3-13a90d1691dc",
   "metadata": {},
   "outputs": [
    {
     "name": "stdout",
     "output_type": "stream",
     "text": [
      "me brows\n",
      "me brows\n"
     ]
    }
   ],
   "source": [
    "# me brows\n",
    "a=\"Google chrome browser\"\n",
    "print(a[11:19])\n",
    "print(a[-10:-2])"
   ]
  },
  {
   "cell_type": "code",
   "execution_count": 54,
   "id": "11e19e0c-8368-48cd-acc9-86939db78999",
   "metadata": {},
   "outputs": [
    {
     "name": "stdout",
     "output_type": "stream",
     "text": [
      "owser\n",
      "owser\n"
     ]
    }
   ],
   "source": [
    "# owser\n",
    "a=\"Google chrome browser\"\n",
    "print(a[16:21])\n",
    "print(a[-5:21])"
   ]
  },
  {
   "cell_type": "code",
   "execution_count": 56,
   "id": "b255d386-56bf-4436-ba12-7a5ef5520e86",
   "metadata": {},
   "outputs": [
    {
     "name": "stdout",
     "output_type": "stream",
     "text": [
      "gle\n",
      "gle\n"
     ]
    }
   ],
   "source": [
    "# gle\n",
    "a=\"Google chrome browser\"\n",
    "print(a[3:6])\n",
    "print(a[-18:-15])"
   ]
  },
  {
   "cell_type": "code",
   "execution_count": 60,
   "id": "228b4121-db5b-45e0-b00a-32670f96eff3",
   "metadata": {},
   "outputs": [
    {
     "name": "stdout",
     "output_type": "stream",
     "text": [
      "le chrome brow\n",
      "le chrome brow\n"
     ]
    }
   ],
   "source": [
    "# le chrome brow\n",
    "a=\"Google chrome browser\"\n",
    "print(a[4:18])\n",
    "print(a[-17:-3])"
   ]
  },
  {
   "cell_type": "code",
   "execution_count": 64,
   "id": "a8101f8c-6f12-4575-b65a-6e0cf03143d6",
   "metadata": {},
   "outputs": [
    {
     "name": "stdout",
     "output_type": "stream",
     "text": [
      "Google \n",
      "Google \n"
     ]
    }
   ],
   "source": [
    "# Google \n",
    "a=\"Google chrome browser\"\n",
    "print(a[0:7])\n",
    "print(a[-21:-14])"
   ]
  },
  {
   "cell_type": "code",
   "execution_count": 66,
   "id": "8d28f64e-a187-4e2b-a214-7917eebf9d26",
   "metadata": {},
   "outputs": [
    {
     "name": "stdout",
     "output_type": "stream",
     "text": [
      "Goog\n",
      "Goog\n"
     ]
    }
   ],
   "source": [
    "# Goog\n",
    "a=\"Google chrome browser\"\n",
    "print(a[0:4])\n",
    "print(a[-21:-17])"
   ]
  },
  {
   "cell_type": "code",
   "execution_count": 70,
   "id": "9fef4b29-8fad-4458-847a-eff144443462",
   "metadata": {},
   "outputs": [
    {
     "name": "stdout",
     "output_type": "stream",
     "text": [
      "ome browse\n",
      "ome browse\n"
     ]
    }
   ],
   "source": [
    "# ome browse\n",
    "a=\"Google chrome browser\"\n",
    "print(a[10:20])\n",
    "print(a[-11:-1])"
   ]
  },
  {
   "cell_type": "code",
   "execution_count": null,
   "id": "5786bbe3-332d-4910-8465-acacd8766f73",
   "metadata": {},
   "outputs": [],
   "source": []
  }
 ],
 "metadata": {
  "kernelspec": {
   "display_name": "Python [conda env:base] *",
   "language": "python",
   "name": "conda-base-py"
  },
  "language_info": {
   "codemirror_mode": {
    "name": "ipython",
    "version": 3
   },
   "file_extension": ".py",
   "mimetype": "text/x-python",
   "name": "python",
   "nbconvert_exporter": "python",
   "pygments_lexer": "ipython3",
   "version": "3.12.7"
  }
 },
 "nbformat": 4,
 "nbformat_minor": 5
}
