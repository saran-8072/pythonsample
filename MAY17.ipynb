{
 "cells": [
  {
   "cell_type": "code",
   "execution_count": 16,
   "id": "0f5afd15-2460-4271-9f01-aa007482f6c1",
   "metadata": {},
   "outputs": [
    {
     "name": "stdout",
     "output_type": "stream",
     "text": [
      "[2, 2, 3, 4, 5, 6, 7, 10, 11, 12, 15, 10000]\n",
      "6 7\n",
      "average: 6.5\n",
      "[2, 2, 3, 4, 5, 6, 7, 10, 11, 12, 15, 10000]\n",
      "6\n"
     ]
    }
   ],
   "source": [
    "#Li1 = [2,3,4,5,6,7,10,11,12,15,2,10000]\n",
    "#even\n",
    "#i) sort() [2, 2, 3, 4, 5, 6, 7, 10, 11, 12, 15, 10000]\n",
    "#i) Find two middle numbers 6,7\n",
    "#ii) average of two numbers 6.5\n",
    "a=[2,3,4,5,6,7,10,11,12,15,2,10000]\n",
    "b=a.sort()\n",
    "print(a)\n",
    "c=len(a)//2\n",
    "d=c+1\n",
    "print(c,d)\n",
    "e=(c+d)/2\n",
    "print(\"average:\",e)\n",
    "#Odd\n",
    "#i) sort() [2, 2, 3, 4, 5, 6, 7, 10, 11, 12, 15, 10000]\n",
    "#ii) [2, 2, 3, 4, 5, 6, 7, 10, 11, 12, 14, 15, 10000]\n",
    "#7\n",
    "#Li2 = [2,3,4,5,6,7,10,11,12,15,2,10000,14]\n",
    "f= [2, 2, 3, 4, 5, 6, 7, 10, 11, 12, 15, 10000]\n",
    "f.sort()\n",
    "print(f)\n",
    "g=len(f)//2\n",
    "print(g)"
   ]
  },
  {
   "cell_type": "code",
   "execution_count": 61,
   "id": "0d322342-eb33-4615-8c15-65837233a8f3",
   "metadata": {},
   "outputs": [
    {
     "name": "stdin",
     "output_type": "stream",
     "text": [
      "enter month name: december\n"
     ]
    },
    {
     "name": "stdout",
     "output_type": "stream",
     "text": [
      "31 days\n"
     ]
    }
   ],
   "source": [
    "#Write a Python program to convert month name to a number of days.\n",
    "a=input(\"enter month name:\")\n",
    "if a in (\"january\",\"march\",\"may\",\"july\",\"august\",\"october\",\"december\"):\n",
    "    print(\"31 days\")\n",
    "elif a in (\"april\",\"june\",\"september\",\"november\"):\n",
    "    print(\"30 days\")\n",
    "elif a in (\"february\"):\n",
    "    print(\"28,29 in leap years\")\n",
    "else:\n",
    "    print(\"invalid month\")"
   ]
  },
  {
   "cell_type": "code",
   "execution_count": 36,
   "id": "08bb7a73-c2fd-4969-8369-fc21d5983a7f",
   "metadata": {},
   "outputs": [
    {
     "name": "stdin",
     "output_type": "stream",
     "text": [
      "enter a month: 2004\n"
     ]
    },
    {
     "name": "stdout",
     "output_type": "stream",
     "text": [
      "year is leap year\n"
     ]
    },
    {
     "name": "stdin",
     "output_type": "stream",
     "text": [
      "Enter a month name:  2004\n"
     ]
    },
    {
     "name": "stdout",
     "output_type": "stream",
     "text": [
      "Invalid month\n"
     ]
    }
   ],
   "source": [
    "#Get one month from user\n",
    "#April ==> 30\n",
    "#gggg ==> Invalid month valid month\n",
    "#feb ==> 28  ? \n",
    "#please enter year ? \n",
    "#%4 ==> leap year 2004 2008 2012 2100==> not leap year\n",
    "#2000 2100 2200 2300 2400 2500 ==> multiplied by 400 also\n",
    "a=int(input(\"enter a month:\"))\n",
    "if a % 4 == 0:\n",
    "    if a%400==0 or a%100!=0:\n",
    "        print(\"year is leap year\")\n",
    "    else:\n",
    "        print(\"is not a leap year\")\n",
    "else:\n",
    "    print(\"year is not a leap year\")\n",
    "b=input(\"Enter a month name: \")\n",
    "if b== \"january\":\n",
    "    print(\"31 days\")\n",
    "elif b == \"february\":\n",
    "    print(\"28 or 29 days\")\n",
    "elif b == \"march\":\n",
    "    print(\"31 days.\")\n",
    "elif b == \"april\":\n",
    "    print(\"30 days\")\n",
    "elif b == \"may\":\n",
    "    print(\"31 days\")\n",
    "elif b == \"june\":\n",
    "    print(\"30 days\")\n",
    "elif b == \"july\":\n",
    "    print(\"31 days\")\n",
    "elif b == \"august\":\n",
    "    print(\"31 days\")\n",
    "elif b == \"september\":\n",
    "    print(\"30 days\")\n",
    "elif b == \"october\":\n",
    "    print(\"31 days\")\n",
    "elif b == \"november\":\n",
    "    print(\"30 days\")\n",
    "elif b == \"december\":\n",
    "    print(\" 31 days\")\n",
    "else:\n",
    "    print(\"Invalid month\")"
   ]
  },
  {
   "cell_type": "code",
   "execution_count": 292,
   "id": "93e7bf87-26c5-4a82-bb58-b22d55c17dab",
   "metadata": {},
   "outputs": [
    {
     "name": "stdin",
     "output_type": "stream",
     "text": [
      "enter a colour: yellow\n"
     ]
    },
    {
     "name": "stdout",
     "output_type": "stream",
     "text": [
      "it's available in rainbow and colour number is 4\n"
     ]
    }
   ],
   "source": [
    "#input: get a colour user\n",
    "#VIBGYOR\n",
    "#INDIGO  ==> it's available in rainbow and colour number is 2\n",
    "#Rose  ==> IT's not available and no colour c\n",
    "a=(\"violet\", \"indigo\", \"blue\", \"green\", \"yellow\",\"Orange\",\"red\")\n",
    "b=input(\"enter a colour:\")\n",
    "if b in a:\n",
    "    c=a.index(b)\n",
    "    print(\"it's available in rainbow and colour number is\",c)\n",
    "else:\n",
    "    print(\"IT's not available and no colour c\")"
   ]
  },
  {
   "cell_type": "code",
   "execution_count": 97,
   "id": "19817d33-47dc-4c1f-94ca-21243e59171a",
   "metadata": {},
   "outputs": [
    {
     "name": "stdin",
     "output_type": "stream",
     "text": [
      "enter your character: a\n"
     ]
    },
    {
     "name": "stdout",
     "output_type": "stream",
     "text": [
      "its small letter\n"
     ]
    }
   ],
   "source": [
    "#Get a character from user (alphabet, small, upper, number, special char)\n",
    "#Find whatis that\n",
    "a=input(\"enter your character:\")\n",
    "if  a.isupper():\n",
    "    print(\"its capital letter\")\n",
    "elif a.islower():\n",
    "    print(\"its small letter\")\n",
    "elif a.isdigit():\n",
    "    print(\"its number \")\n",
    "else:\n",
    "    print(\"special char\")"
   ]
  },
  {
   "cell_type": "code",
   "execution_count": 22,
   "id": "8f09bf2a-1ade-43a1-bfa4-681eefaba049",
   "metadata": {},
   "outputs": [
    {
     "name": "stdin",
     "output_type": "stream",
     "text": [
      "enter a string: pot\n",
      "enter a string: top\n"
     ]
    },
    {
     "name": "stdout",
     "output_type": "stream",
     "text": [
      "anagram\n"
     ]
    }
   ],
   "source": [
    "#anagram\n",
    "#i) get two strings from user\n",
    "#str1: pot str2: top ==> anagrams\n",
    "#str1: python  str2: java ==> not anagrams\n",
    "#str1 abcd  str2: cdab  ===> anagram\n",
    "a=input(\"enter a string:\")\n",
    "b=input(\"enter a string:\")\n",
    "c=sorted(a)\n",
    "d=sorted(b)\n",
    "if c==d:\n",
    "    print(\"anagram\")\n",
    "else:\n",
    "    print(\"not anagram\")"
   ]
  },
  {
   "cell_type": "code",
   "execution_count": 274,
   "id": "9a549851-f9fd-43af-878f-c2b3a6d7ca55",
   "metadata": {},
   "outputs": [
    {
     "name": "stdin",
     "output_type": "stream",
     "text": [
      "enter your month name: november\n",
      "enter a week day: sunday\n"
     ]
    },
    {
     "name": "stdout",
     "output_type": "stream",
     "text": [
      "Non veg\n"
     ]
    }
   ],
   "source": [
    "#Task5:\n",
    "#i)Month name\n",
    "#complete restrictions: december, january, march  ===> No nonveg\n",
    "#Partial restriction: august, september, november ===> get week day from user ==> friday/tuesday no nonveg Other days: Non veg\n",
    "#Other months: No restiction: Non veg\n",
    "#if :\n",
    "#elif:\n",
    " #  if\n",
    "  # else\n",
    "#else\n",
    "a=input(\"enter your month name:\")\n",
    "if (a in(\"august\",\"september\",\"november\")):\n",
    "    b=input(\"enter a week day:\")\n",
    "    if (b in (\"friday\",\"tuesday\")):\n",
    "        print(\"no non-veg\")\n",
    "    else:\n",
    "        print(\"Non veg\")\n",
    "          \n",
    "elif a in (\"december\", \"january\", \"march\" ):\n",
    "    print(\"no nonveg\")\n",
    "else:\n",
    "    print(\"No restiction\")\n",
    "    print(\"Non veg\")"
   ]
  },
  {
   "cell_type": "code",
   "execution_count": null,
   "id": "d5554e20-0503-41b9-8912-53eed8c7b403",
   "metadata": {},
   "outputs": [],
   "source": [
    "\n",
    "\n"
   ]
  },
  {
   "cell_type": "code",
   "execution_count": null,
   "id": "daa21ae9-661b-40cd-934c-970c4ba21ba2",
   "metadata": {},
   "outputs": [],
   "source": []
  }
 ],
 "metadata": {
  "kernelspec": {
   "display_name": "Python [conda env:base] *",
   "language": "python",
   "name": "conda-base-py"
  },
  "language_info": {
   "codemirror_mode": {
    "name": "ipython",
    "version": 3
   },
   "file_extension": ".py",
   "mimetype": "text/x-python",
   "name": "python",
   "nbconvert_exporter": "python",
   "pygments_lexer": "ipython3",
   "version": "3.12.7"
  }
 },
 "nbformat": 4,
 "nbformat_minor": 5
}
