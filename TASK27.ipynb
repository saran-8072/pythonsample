{
 "cells": [
  {
   "cell_type": "code",
   "execution_count": null,
   "id": "da934910-e7d4-43da-81b6-0caa48c80de6",
   "metadata": {},
   "outputs": [],
   "source": [
    "#string1:  master\n",
    "#string2:  python\n",
    "#Output:  mason  (Concatenation of first part of string1 + second part od string 2)"
   ]
  },
  {
   "cell_type": "code",
   "execution_count": 3,
   "id": "7bc5cec0-d3fa-4d6d-967d-c9a420fac185",
   "metadata": {},
   "outputs": [
    {
     "name": "stdin",
     "output_type": "stream",
     "text": [
      "enter a string1: master\n",
      "enter a string2: python\n"
     ]
    },
    {
     "name": "stdout",
     "output_type": "stream",
     "text": [
      "mason\n"
     ]
    }
   ],
   "source": [
    "string_1=input(\"enter a string1:\")\n",
    "string_2=input(\"enter a string2:\")\n",
    "b=len(string_1)//2\n",
    "c=string_1[0:b]\n",
    "t=string_2[-2:]\n",
    "e=c+t\n",
    "print(e)"
   ]
  },
  {
   "cell_type": "code",
   "execution_count": 104,
   "id": "ddb234cf-6647-4613-af37-de8ca38830f6",
   "metadata": {},
   "outputs": [
    {
     "name": "stdin",
     "output_type": "stream",
     "text": [
      "Enter a string1: encyclopedia\n",
      "Enter a string2: social\n"
     ]
    },
    {
     "name": "stdout",
     "output_type": "stream",
     "text": [
      "encyclal\n"
     ]
    }
   ],
   "source": [
    "#string1: encyclopedia\n",
    "#string2: social\n",
    "#output: encyclal\n",
    "string_1=input(\"Enter a string1:\")\n",
    "string_2=input(\"Enter a string2:\")\n",
    "a=len(string_1)//2\n",
    "b=string_1[0:a]\n",
    "c=string_2[-2:]\n",
    "d=b+c\n",
    "print(d)\n"
   ]
  },
  {
   "cell_type": "code",
   "execution_count": 7,
   "id": "2c35f89b-71e6-4290-b78b-dcf7d8cc3fca",
   "metadata": {},
   "outputs": [
    {
     "name": "stdin",
     "output_type": "stream",
     "text": [
      "Enter a string1: animal\n",
      "Enter a string_2: hello\n"
     ]
    },
    {
     "name": "stdout",
     "output_type": "stream",
     "text": [
      "nael\n"
     ]
    }
   ],
   "source": [
    "# string1: animal\n",
    "# string2: hello\n",
    "# output:   nael\n",
    "\n",
    "string_1=input(\"Enter a string1:\")\n",
    "string_2=input(\"Enter a string_2:\")\n",
    "a=string_1[0:2]\n",
    "b=a[::-1]\n",
    "c=len(string_2)//2\n",
    "e=c+1\n",
    "d=string_2[1:e]\n",
    "f=b+d\n",
    "print(f)\n"
   ]
  },
  {
   "cell_type": "code",
   "execution_count": 35,
   "id": "c0dafe75-5fb4-49d8-b100-5d37ddbfccbc",
   "metadata": {},
   "outputs": [
    {
     "name": "stdin",
     "output_type": "stream",
     "text": [
      "Enter a string_1: india\n",
      "Enter a string_2: python\n"
     ]
    },
    {
     "name": "stdout",
     "output_type": "stream",
     "text": [
      "niyth\n"
     ]
    }
   ],
   "source": [
    "#string1: india\n",
    "#string2: python\n",
    "#output: niyth\n",
    "string_1=input(\"Enter a string_1:\")\n",
    "string_2=input(\"Enter a string_2:\")\n",
    "a=string_1[0:2]\n",
    "b=a[::-1]\n",
    "c=len(string_2)//2\n",
    "e=c+1 \n",
    "d=string_2[1:e]\n",
    "f=b+d\n",
    "print(f)"
   ]
  },
  {
   "cell_type": "code",
   "execution_count": 12,
   "id": "89d4cfdb-3764-4599-ad8a-264b35ea9960",
   "metadata": {},
   "outputs": [
    {
     "name": "stdout",
     "output_type": "stream",
     "text": [
      "m\n"
     ]
    }
   ],
   "source": [
    "a=\"animal\"\n",
    "b=len(a)\n",
    "c=b//2\n",
    "print(a[c])"
   ]
  },
  {
   "cell_type": "markdown",
   "id": "da4f5cb9-333f-4b43-a2a9-4a53913ae4d4",
   "metadata": {},
   "source": [
    "# task"
   ]
  },
  {
   "cell_type": "code",
   "execution_count": 31,
   "id": "0c8f53a6-cd39-4e4c-903e-cec971d69bce",
   "metadata": {},
   "outputs": [
    {
     "name": "stdin",
     "output_type": "stream",
     "text": [
      "enter a string_1: animal\n",
      "enter a string_2: hello\n"
     ]
    },
    {
     "name": "stdout",
     "output_type": "stream",
     "text": [
      "minaell\n"
     ]
    }
   ],
   "source": [
    "# string1: animal\n",
    "# string2: hello\n",
    "# output:  minaell\n",
    "string_1=input(\"enter a string_1:\")\n",
    "string_2=input(\"enter a string_2:\")\n",
    "a=len(string_1)//2\n",
    "b=a+1\n",
    "c=string_1[0:b]\n",
    "d=c[::-1]\n",
    "e=len(string_2)//2\n",
    "f=e+2\n",
    "g=string_2[1:f]\n",
    "h=d+g\n",
    "print(h)\n",
    "\n"
   ]
  },
  {
   "cell_type": "code",
   "execution_count": 127,
   "id": "a806458e-23aa-4350-bda8-3427921a3685",
   "metadata": {},
   "outputs": [
    {
     "name": "stdin",
     "output_type": "stream",
     "text": [
      "enter a string1: encyclopedia\n",
      "enter a string2: social\n"
     ]
    },
    {
     "name": "stdout",
     "output_type": "stream",
     "text": [
      "opediaso\n"
     ]
    }
   ],
   "source": [
    "#string1: encyclopedia\n",
    "#string2: social\n",
    "#output: aideposo\n",
    "string_1=input(\"enter a string1:\")\n",
    "string_2=input(\"enter a string2:\")\n",
    "a=len(string_1)//2\n",
    "b=string_1[a:]\n",
    "c=b[::-1]\n",
    "d=string_2[0:2]\n",
    "e=b+d\n",
    "print(e)"
   ]
  },
  {
   "cell_type": "code",
   "execution_count": 24,
   "id": "85b726df-8780-4e27-9fdc-85f824e46348",
   "metadata": {},
   "outputs": [
    {
     "name": "stdin",
     "output_type": "stream",
     "text": [
      "enter a string1: india\n",
      "enter a string2: python\n"
     ]
    },
    {
     "name": "stdout",
     "output_type": "stream",
     "text": [
      "aidnhty\n"
     ]
    }
   ],
   "source": [
    "#string1: india\n",
    "#string2: python\n",
    "#output: aidnhty\n",
    "string_1=input(\"enter a string1:\")\n",
    "string_2=input(\"enter a string2:\")\n",
    "a=len(string_1)//2\n",
    "b=a-1\n",
    "c=string_1[b:] \n",
    "d=c[::-1]\n",
    "e=len(string_2)//2\n",
    "h=e+1\n",
    "g=string_2[1:h]\n",
    "i=g[::-1]\n",
    "j=d+i\n",
    "print(j)\n"
   ]
  },
  {
   "cell_type": "code",
   "execution_count": 126,
   "id": "17551801-f85f-40c7-b656-f2aea3676724",
   "metadata": {},
   "outputs": [
    {
     "name": "stdin",
     "output_type": "stream",
     "text": [
      "enter a string1: sarankumar\n",
      "enter a string_2: google\n"
     ]
    },
    {
     "name": "stdout",
     "output_type": "stream",
     "text": [
      "mukgle\n"
     ]
    }
   ],
   "source": [
    "#sarankumar\n",
    "#google\n",
    "#output:mukgle\n",
    "string_1=input(\"enter a string1:\")\n",
    "string_2=input(\"enter a string_2:\")\n",
    "a=len(string_1)//2\n",
    "b=string_1[a:-2]\n",
    "c=b[::-1]\n",
    "d=len(string_2)//2\n",
    "e=string_2[d:]\n",
    "f=c+e\n",
    "print(f)"
   ]
  },
  {
   "cell_type": "code",
   "execution_count": 69,
   "id": "fe78de4a-0c51-4f40-bec8-8df34a890ca4",
   "metadata": {},
   "outputs": [
    {
     "name": "stdin",
     "output_type": "stream",
     "text": [
      "enter a string1: sarankumar\n",
      "enter a string2: bhavani\n"
     ]
    },
    {
     "name": "stdout",
     "output_type": "stream",
     "text": [
      "narana\n"
     ]
    }
   ],
   "source": [
    "#sarankumar \n",
    "#bhavani\n",
    "#output:narana\n",
    "string_1=input(\"enter a string1:\")\n",
    "string_2=input(\"enter a string2:\")\n",
    "a=len(string_1)//2\n",
    "b=string_1[1:a]\n",
    "c=b[::-1]\n",
    "d=len(string_2)//2\n",
    "i=d+1\n",
    "g=string_2[i:-1]\n",
    "h=g[::-1]\n",
    "j=c+h\n",
    "print(j)"
   ]
  },
  {
   "cell_type": "code",
   "execution_count": null,
   "id": "a10b8c84-a8ed-4c78-8bcd-6597f4076bf8",
   "metadata": {},
   "outputs": [],
   "source": []
  },
  {
   "cell_type": "code",
   "execution_count": null,
   "id": "9f1b8c5c-29ab-414d-b220-7613ac9fe841",
   "metadata": {},
   "outputs": [],
   "source": []
  }
 ],
 "metadata": {
  "kernelspec": {
   "display_name": "Python [conda env:base] *",
   "language": "python",
   "name": "conda-base-py"
  },
  "language_info": {
   "codemirror_mode": {
    "name": "ipython",
    "version": 3
   },
   "file_extension": ".py",
   "mimetype": "text/x-python",
   "name": "python",
   "nbconvert_exporter": "python",
   "pygments_lexer": "ipython3",
   "version": "3.12.7"
  }
 },
 "nbformat": 4,
 "nbformat_minor": 5
}
