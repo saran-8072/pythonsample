{
 "cells": [
  {
   "cell_type": "code",
   "execution_count": 130,
   "id": "6b4e8089-bd97-446d-8d0e-6ead0795ec16",
   "metadata": {},
   "outputs": [
    {
     "name": "stdin",
     "output_type": "stream",
     "text": [
      "enter a string python\n"
     ]
    },
    {
     "name": "stdout",
     "output_type": "stream",
     "text": [
      "h\n"
     ]
    }
   ],
   "source": [
    "#1) Get one string from the user\n",
    "#Identify the middle character of the string\n",
    "a=input(\"enter a string\")\n",
    "b=len(a)//2\n",
    "print(a[b])"
   ]
  },
  {
   "cell_type": "code",
   "execution_count": 55,
   "id": "64ef9e51-1356-42b9-a19c-b441387b72e0",
   "metadata": {},
   "outputs": [
    {
     "name": "stdin",
     "output_type": "stream",
     "text": [
      "Enter a string: india\n",
      "Enter a string: python\n"
     ]
    },
    {
     "name": "stdout",
     "output_type": "stream",
     "text": [
      "india6python5\n"
     ]
    }
   ],
   "source": [
    "#2) Get two characters from user  example: \"java\" \"groovy\"\n",
    " #  java6groovy4\n",
    "a=input(\"Enter a string:\")\n",
    "b=input(\"Enter a string:\")\n",
    "c=len(a)\n",
    "d=len(b)\n",
    "e=a+str(d)+b+str(c)\n",
    "print(e)"
   ]
  },
  {
   "cell_type": "code",
   "execution_count": 61,
   "id": "43eb8415-4019-4bfe-a9a3-5fadd78ac596",
   "metadata": {},
   "outputs": [
    {
     "name": "stdin",
     "output_type": "stream",
     "text": [
      "Enter a string: maths\n",
      "Enter a string: science\n",
      "Enter a string: tamil\n"
     ]
    },
    {
     "name": "stdout",
     "output_type": "stream",
     "text": [
      "mtsseetml\n"
     ]
    }
   ],
   "source": [
    "#2) Get three strings from user\n",
    "# maths  science  tamil  ===> mtsseetml ==> Concatenation of first letter,middle letter and last letter from all the three strings\n",
    "a=input(\"Enter a string:\")\n",
    "b=input(\"Enter a string:\")\n",
    "c=input(\"Enter a string:\")\n",
    "d=(a[0]+a[len(a)//2]+a[-1])+(b[0]+b[len(b)//2]+b[-1])+(c[0]+c[len(c)//2]+c[-1])\n",
    "print(d)"
   ]
  },
  {
   "cell_type": "code",
   "execution_count": 17,
   "id": "4649fc92-66e6-4f34-b956-1f4ada03ddc7",
   "metadata": {},
   "outputs": [
    {
     "name": "stdin",
     "output_type": "stream",
     "text": [
      "enter a string: ravi\n",
      "enter a number: 2\n"
     ]
    },
    {
     "name": "stdout",
     "output_type": "stream",
     "text": [
      "raviravi2222\n"
     ]
    }
   ],
   "source": [
    "# Get two values (input) ===> number, string\n",
    "\n",
    "#7 , \"python\" ===> pythonpythonpythonpythonpythonpythonpython777777\n",
    "\n",
    "#3 , \"perl\"   ===> perlperlperl3333\n",
    "a=input(\"enter a string:\")\n",
    "b=int(input(\"enter a number:\"))\n",
    "c=len(a)\n",
    "d=a*b+str(b)*c\n",
    "print(d)"
   ]
  },
  {
   "cell_type": "code",
   "execution_count": 7,
   "id": "fe7010e5-6a78-4fa4-a2ef-a0b4d6160f14",
   "metadata": {},
   "outputs": [
    {
     "name": "stdin",
     "output_type": "stream",
     "text": [
      "Enter a string: computer\n",
      "Enter a string: science\n"
     ]
    },
    {
     "name": "stdout",
     "output_type": "stream",
     "text": [
      "compUter\n",
      "4 3\n",
      "ter\n",
      "compUteRsciEnce\n"
     ]
    }
   ],
   "source": [
    "# get two strings from user  computer science  ==> input \n",
    "\n",
    "#step 1 ==> comPuter  sciEnce\n",
    "\n",
    "#step 2 ===> concatenate both ==> comPutersciEnce\n",
    "\n",
    "#step 3 ===> comPuteRsciEnce\n",
    "a=input(\"Enter a string:\")\n",
    "b=input(\"Enter a string:\")\n",
    "c=len(a)//2\n",
    "d=len(b)//2\n",
    "y=a[c+1:]\n",
    "e=a[:c]+(a[c].upper())+a[c+1:]\n",
    "print(e)\n",
    "h=b[:d]+(b[d].upper())+b[d+1:]\n",
    "i=e+h\n",
    "j=len(i)//2\n",
    "k=i[:j]+(i[j].upper())+i[j+1:]\n",
    "print(c,d)\n",
    "print(y)\n",
    "print(k)\n",
    "#compUteRsciEnce"
   ]
  },
  {
   "cell_type": "code",
   "execution_count": 175,
   "id": "6a6e0a72-dcdc-4b75-ad42-964de98c5a08",
   "metadata": {},
   "outputs": [
    {
     "name": "stdin",
     "output_type": "stream",
     "text": [
      "Enter a string: PYTHON\n"
     ]
    },
    {
     "name": "stdout",
     "output_type": "stream",
     "text": [
      "PYThON\n"
     ]
    }
   ],
   "source": [
    "#Get one string (Captial) ==> PYTHON\n",
    "#Convert middle letter of the string in to small\n",
    "a=input(\"Enter a string:\")\n",
    "b=len(a)//2\n",
    "c=a[0:b]+a[b].lower()+a[-2:]\n",
    "print(c)"
   ]
  },
  {
   "cell_type": "code",
   "execution_count": 124,
   "id": "15cb71b5-24d2-4952-9b53-a836cf5daab3",
   "metadata": {},
   "outputs": [
    {
     "name": "stdin",
     "output_type": "stream",
     "text": [
      "Enter a string: python\n"
     ]
    },
    {
     "name": "stdout",
     "output_type": "stream",
     "text": [
      "PythoN\n"
     ]
    }
   ],
   "source": [
    "#Get one string from user:\n",
    "\n",
    "#python   ===> PythoN  (convert first and last char to captial)\n",
    "a=input(\"Enter a string:\")\n",
    "b=len(a)\n",
    "c=a[0].upper()+a[1:-1]+a[-1].upper()\n",
    "print(c)"
   ]
  },
  {
   "cell_type": "code",
   "execution_count": 37,
   "id": "47a41383-a4f3-469e-8139-47ebaf7b1341",
   "metadata": {},
   "outputs": [
    {
     "name": "stdin",
     "output_type": "stream",
     "text": [
      "enter a string tamil\n",
      "enter a integer: 2\n"
     ]
    },
    {
     "name": "stdout",
     "output_type": "stream",
     "text": [
      "atmli\n"
     ]
    }
   ],
   "source": [
    "#8)  Get two values (input) ===> string, integer\n",
    "\n",
    "#computer_science, 3 ===> mocputer_scieecn\n",
    "\n",
    "#biology , 2  ===> iboloyg\n",
    "\n",
    "#capital programs strings\n",
    "a=input(\"enter a string\")\n",
    "b=int(input(\"enter a integer:\"))\n",
    "e=a[:b]\n",
    "f=e[::-1]\n",
    "i=a[-b:]\n",
    "j=i[::-1]\n",
    "h=a[b:-b]\n",
    "z=f+h+j\n",
    "print(z)"
   ]
  },
  {
   "cell_type": "code",
   "execution_count": null,
   "id": "f459cb42-f5c1-40ca-991a-9e5d3b8fedeb",
   "metadata": {},
   "outputs": [],
   "source": []
  },
  {
   "cell_type": "code",
   "execution_count": 45,
   "id": "6645e296-e3fd-4515-bdb2-b076ec2e82c1",
   "metadata": {},
   "outputs": [
    {
     "name": "stdin",
     "output_type": "stream",
     "text": [
      "Enter a string: computer\n",
      "Enter a string: science\n"
     ]
    },
    {
     "name": "stdout",
     "output_type": "stream",
     "text": [
      "compce\n"
     ]
    }
   ],
   "source": [
    "#string1:  master\n",
    "#string2:  python\n",
    "\n",
    "#Output:  mason  (Concatenation of first part of string1 + second part od string 2)\n",
    "a=input(\"Enter a string:\")\n",
    "b=input(\"Enter a string:\")\n",
    "c=len(a)//2\n",
    "d=a[:c]\n",
    "f=b[-2:]\n",
    "g=d+f\n",
    "print(g)"
   ]
  },
  {
   "cell_type": "code",
   "execution_count": 1,
   "id": "383b7956-9f41-4fec-8ffd-7716ce07968e",
   "metadata": {},
   "outputs": [
    {
     "name": "stdin",
     "output_type": "stream",
     "text": [
      "Enter a string: encyclopedia\n",
      "Enter a string: social\n"
     ]
    },
    {
     "name": "stdout",
     "output_type": "stream",
     "text": [
      "encyclal\n"
     ]
    }
   ],
   "source": [
    "#string1: encyclopedia\n",
    "#string2: social\n",
    "#output: encyclal\n",
    "a=input(\"Enter a string:\")\n",
    "b=input(\"Enter a string:\")\n",
    "c=len(a)//2\n",
    "d=a[0:c]\n",
    "e=b[-2:]\n",
    "f=d+e\n",
    "print(f)\n"
   ]
  },
  {
   "cell_type": "code",
   "execution_count": 51,
   "id": "cd862f39-256d-47ca-86f7-77adfdf563d4",
   "metadata": {},
   "outputs": [
    {
     "name": "stdin",
     "output_type": "stream",
     "text": [
      "Enter a string: animal\n",
      "Enter a string: pytho\n"
     ]
    },
    {
     "name": "stdout",
     "output_type": "stream",
     "text": [
      "nayt\n"
     ]
    }
   ],
   "source": [
    "#string1: animal\n",
    "#string2: hello\n",
    "#output:   nael\n",
    "a=input(\"Enter a string:\")\n",
    "b=input(\"Enter a string:\")\n",
    "c=a[0:2]\n",
    "d=c[::-1]\n",
    "e=len(b)//2\n",
    "f=e+1\n",
    "g=b[1:f]\n",
    "h=d+g\n",
    "print(h)\n",
    "\n"
   ]
  },
  {
   "cell_type": "code",
   "execution_count": 63,
   "id": "bf24ee75-fbec-4684-8ac9-eb88983517f9",
   "metadata": {},
   "outputs": [
    {
     "name": "stdin",
     "output_type": "stream",
     "text": [
      "Enter a string: india\n",
      "Enter a string: python\n"
     ]
    },
    {
     "name": "stdout",
     "output_type": "stream",
     "text": [
      "t\n",
      "nito\n"
     ]
    }
   ],
   "source": [
    "#string1: india\n",
    "#string2: python\n",
    "#output: nito\n",
    "a=input(\"Enter a string:\")\n",
    "b=input(\"Enter a string:\")\n",
    "c=a[0:2]\n",
    "d=c[::-1]\n",
    "e=len(b)//2\n",
    "f=e-1\n",
    "print(b[f])\n",
    "g=e+1\n",
    "h=b[f]+b[g]\n",
    "i=d+h\n",
    "print(i)"
   ]
  },
  {
   "cell_type": "code",
   "execution_count": 59,
   "id": "ecd5f743-0f22-4a14-8dc0-e6213b2f3417",
   "metadata": {},
   "outputs": [
    {
     "name": "stdout",
     "output_type": "stream",
     "text": [
      "h\n"
     ]
    }
   ],
   "source": [
    "a=\"python\"\n",
    "b=len(a)//2\n",
    "print(a[b])"
   ]
  },
  {
   "cell_type": "code",
   "execution_count": 89,
   "id": "bbf338f1-e038-45a1-b25e-ee3ae4ff0a61",
   "metadata": {},
   "outputs": [
    {
     "name": "stdin",
     "output_type": "stream",
     "text": [
      "Enter a string: java\n",
      "Enter a string: gokul\n"
     ]
    },
    {
     "name": "stdout",
     "output_type": "stream",
     "text": [
      "j2ag3l\n"
     ]
    }
   ],
   "source": [
    "# Get two characters from user \"java\" \"gokul\"\n",
    "#output: j2ag3l\n",
    "#output:\"science\" \"social\"\n",
    "#s5es4l\n",
    "a=input(\"Enter a string:\")\n",
    "b=input(\"Enter a string:\")\n",
    "c=(a[0])+(a[-1])\n",
    "d=(a[1:-1])\n",
    "e=len(d)\n",
    "f=a[0]+str(e)+a[-1]\n",
    "g=(b[0])+(b[-1])\n",
    "h=b[1:-1]\n",
    "i=len(h)\n",
    "j=b[0]+str(i)+b[-1]\n",
    "k=f+j\n",
    "print(k)"
   ]
  },
  {
   "cell_type": "code",
   "execution_count": 107,
   "id": "959581aa-18e8-46dc-ac97-e5582ecdc3b7",
   "metadata": {},
   "outputs": [
    {
     "name": "stdin",
     "output_type": "stream",
     "text": [
      "enter a string: groovy\n"
     ]
    },
    {
     "name": "stdout",
     "output_type": "stream",
     "text": [
      "gov\n",
      "roy\n",
      "govroy\n"
     ]
    }
   ],
   "source": [
    "#Get one string from user:\n",
    "#python  ====> ptoyhn\n",
    "#java  ===> jvaa\n",
    "#groovy  ===> govroy\n",
    "a=input(\"enter a string:\")\n",
    "b=(a[::2])\n",
    "print(b)\n",
    "c=a[1::2]\n",
    "print(c)\n",
    "d=b+c\n",
    "print(d)"
   ]
  },
  {
   "cell_type": "code",
   "execution_count": 5,
   "id": "b69e7841-5176-40d7-a096-5fa3bab1e032",
   "metadata": {},
   "outputs": [
    {
     "name": "stdin",
     "output_type": "stream",
     "text": [
      "enter a string: computer\n",
      "enter a string: science\n"
     ]
    },
    {
     "name": "stdout",
     "output_type": "stream",
     "text": [
      "somputerccience87ue\n"
     ]
    }
   ],
   "source": [
    "#string1: python\n",
    "#String2: java\n",
    "#output ===> jythonpava64hv\n",
    "a=input(\"enter a string:\")\n",
    "b=input(\"enter a string:\")\n",
    "c=b[0]\n",
    "d=a[1:]\n",
    "e=a[0]\n",
    "f=c+d\n",
    "g=(a[0])+(b[1:])\n",
    "h=f+g\n",
    "i=len(a)\n",
    "j=len(b)\n",
    "k=str(i)+str(j)\n",
    "l=h+k\n",
    "m=(len(a)//2)\n",
    "n=(len(b)//2)\n",
    "o=(a[m]+b[n])\n",
    "p=l+o\n",
    "print(p)"
   ]
  },
  {
   "cell_type": "code",
   "execution_count": 29,
   "id": "1114cbe6-bea4-436d-9264-e26c228969ed",
   "metadata": {},
   "outputs": [
    {
     "name": "stdin",
     "output_type": "stream",
     "text": [
      "enter a value:  **python**\n",
      "enter a value:  *python***\n",
      "enter a value:  ***java**\n"
     ]
    },
    {
     "name": "stdout",
     "output_type": "stream",
     "text": [
      "python\n",
      "python\n",
      "java\n"
     ]
    }
   ],
   "source": [
    "#use strip method on this pgm\n",
    "#string1: **python**\n",
    "#string1: *python***\n",
    "#string: ***java**\n",
    "a=input(\"enter a value:\")\n",
    "b=input(\"enter a value:\")\n",
    "c=input(\"enter a value:\")\n",
    "d=a.strip(\" *\")\n",
    "print(d)\n",
    "e=b.strip(\" *\")\n",
    "print(e)\n",
    "f=c.strip(\" *\")\n",
    "print(f)"
   ]
  },
  {
   "cell_type": "code",
   "execution_count": 31,
   "id": "07f8c339-0a99-48ee-9aa9-687e35d477b9",
   "metadata": {},
   "outputs": [
    {
     "name": "stdin",
     "output_type": "stream",
     "text": [
      "enter your number: 123\n",
      "enter your number: 456\n"
     ]
    },
    {
     "name": "stdout",
     "output_type": "stream",
     "text": [
      "123456579\n"
     ]
    }
   ],
   "source": [
    "#int1: 123\n",
    "#int2: 456\n",
    "#output: 123456579\n",
    "a=int(input(\"enter your number:\"))\n",
    "b=int(input(\"enter your number:\"))\n",
    "c=(str(a)+str(b))+str(a+b)\n",
    "print(c)"
   ]
  },
  {
   "cell_type": "code",
   "execution_count": 43,
   "id": "ce65ad75-f571-4b33-aa20-c61498769b31",
   "metadata": {},
   "outputs": [
    {
     "name": "stdin",
     "output_type": "stream",
     "text": [
      "enter a string: python\n",
      "enter a number 100\n"
     ]
    },
    {
     "name": "stdout",
     "output_type": "stream",
     "text": [
      "104\n",
      "d\n"
     ]
    }
   ],
   "source": [
    "#Task4:\n",
    "#Study how ascii values are working\n",
    "#String1: python  ==> h  ===> ascii value\n",
    "#Int1: 100  ==> D\n",
    "#string1 ==> middle character's ascii value\n",
    "#int ===> letter\n",
    "#Output : 105D\n",
    "a=input(\"enter a string:\")\n",
    "b=int(input(\"enter a number\"))\n",
    "c=len(a)//2\n",
    "d=ord(a[c])\n",
    "print(d)\n",
    "e=chr(b)\n",
    "print(e)"
   ]
  },
  {
   "cell_type": "code",
   "execution_count": 115,
   "id": "344249a7-4f8e-4dec-beb1-da009cc5ae93",
   "metadata": {},
   "outputs": [
    {
     "name": "stdin",
     "output_type": "stream",
     "text": [
      "enter a number: 100\n"
     ]
    },
    {
     "name": "stdout",
     "output_type": "stream",
     "text": [
      "d\n"
     ]
    }
   ],
   "source": [
    "a=int(input(\"enter a number:\"))\n",
    "print(chr(a))"
   ]
  },
  {
   "cell_type": "code",
   "execution_count": 39,
   "id": "71a402d5-ea17-4692-8178-26256418756b",
   "metadata": {},
   "outputs": [
    {
     "name": "stdout",
     "output_type": "stream",
     "text": [
      "104\n"
     ]
    }
   ],
   "source": [
    "a=\"h\"\n",
    "print(ord(a))"
   ]
  },
  {
   "cell_type": "code",
   "execution_count": 63,
   "id": "526df8b5-aa7f-4784-ace7-032b7fc4dcfe",
   "metadata": {},
   "outputs": [
    {
     "name": "stdin",
     "output_type": "stream",
     "text": [
      " ravi 10.30\n",
      " saran 12.19\n",
      " bhavani 20.20\n"
     ]
    },
    {
     "name": "stdout",
     "output_type": "stream",
     "text": [
      "0\n",
      "32\n"
     ]
    }
   ],
   "source": [
    "#Task5: (name<space>float)\n",
    "#string1: \"ravi 10.30\"  \n",
    "#string2: “saran 12.19\"\n",
    "#string3: “bhavani 20.20\"\n",
    "#split + indexing\n",
    "#10.30 + 12.19 + 20.20 ===> output ===> round (42.69000) 5 decimal places should be\n",
    "string1=input() \n",
    "string2=input()\n",
    "string3=input()\n",
    "a=float(string1.split()[1][1])+float(string2.split()[1])+float(string3.split()[1])\n",
    "b=(string1.split()[1][1])\n",
    "print(b)\n",
    "print(round(a))"
   ]
  },
  {
   "cell_type": "code",
   "execution_count": 129,
   "id": "f0ab8dfa-cfb0-4a89-ad34-0ffffa348a0c",
   "metadata": {},
   "outputs": [
    {
     "name": "stdout",
     "output_type": "stream",
     "text": [
      "43\n"
     ]
    }
   ],
   "source": [
    "a=10.30\n",
    "b=12.19\n",
    "c=20.20\n",
    "d=a+b+c\n",
    "print(round(d))"
   ]
  },
  {
   "cell_type": "code",
   "execution_count": null,
   "id": "5d1b7a33-9277-430d-8b35-ee4946fb3420",
   "metadata": {},
   "outputs": [],
   "source": [
    "ravi 10.30"
   ]
  }
 ],
 "metadata": {
  "kernelspec": {
   "display_name": "Python [conda env:base] *",
   "language": "python",
   "name": "conda-base-py"
  },
  "language_info": {
   "codemirror_mode": {
    "name": "ipython",
    "version": 3
   },
   "file_extension": ".py",
   "mimetype": "text/x-python",
   "name": "python",
   "nbconvert_exporter": "python",
   "pygments_lexer": "ipython3",
   "version": "3.12.7"
  }
 },
 "nbformat": 4,
 "nbformat_minor": 5
}
