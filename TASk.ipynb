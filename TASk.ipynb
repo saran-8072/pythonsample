{
 "cells": [
  {
   "cell_type": "code",
   "execution_count": 3,
   "id": "07e6535d-b1f4-428e-b5fe-e74404824cb0",
   "metadata": {},
   "outputs": [
    {
     "name": "stdin",
     "output_type": "stream",
     "text": [
      "Member: 50\n",
      "How many mens 20\n",
      "How many womwen 20\n",
      "How many child 10\n",
      "Enter the ticket price for men: 10\n",
      "Enter the ticket price for women: 10\n",
      "Enter the ticket price for child 5\n"
     ]
    },
    {
     "name": "stdout",
     "output_type": "stream",
     "text": [
      "total amount collected: 450\n"
     ]
    }
   ],
   "source": [
    "checker=int(input(\"Member:\"))\n",
    "Men=int(input(\"How many mens\"))\n",
    "Women=int(input(\"How many womwen\"))\n",
    "Child=int(input(\"How many child\"))\n",
    "price_Men=int(input(\"Enter the ticket price for men:\"))\n",
    "price_Women=int(input(\"Enter the ticket price for women:\"))\n",
    "price_child=int(input(\"Enter the ticket price for child\"))\n",
    "total_amount=(Men*price_Men)+(Women*price_Women)+(Child*price_child)\n",
    "print(\"total amount collected:\",total_amount)"
   ]
  },
  {
   "cell_type": "code",
   "execution_count": 11,
   "id": "0b0a5260-fbc4-455d-b4a7-b174033f9ae4",
   "metadata": {},
   "outputs": [
    {
     "name": "stdin",
     "output_type": "stream",
     "text": [
      "Member: 50\n",
      "How many mens 20\n",
      "How many womwen 20\n",
      "How many child 10\n",
      "Enter the ticket price for men: 10\n",
      "Enter the ticket price for women: 10\n"
     ]
    },
    {
     "name": "stdout",
     "output_type": "stream",
     "text": [
      "5\n",
      "Both amount are same\n",
      "total amount collected: 450\n"
     ]
    }
   ],
   "source": [
    "checker=int(input(\"Member:\"))\n",
    "Men=int(input(\"How many mens\"))\n",
    "Women=int(input(\"How many womwen\"))\n",
    "Child=int(input(\"How many child\"))\n",
    "price_Men=int(input(\"Enter the ticket price for men:\"))\n",
    "price_Women=int(input(\"Enter the ticket price for women:\"))\n",
    "price_Child=price_Men//2 \n",
    "print(price_Child)\n",
    "checker=Men+Women+Child\n",
    "condeter=Men+Women+Child\n",
    "if(condeter==checker):\n",
    "    print(\"Both amount are same\")\n",
    "else:\n",
    "    print(\"Both amount are not same calculate another time\")\n",
    "total_amount=(Men*price_Men)+(Women*price_Women)+(Child*price_Child)\n",
    "print(\"total amount collected:\",total_amount)"
   ]
  },
  {
   "cell_type": "code",
   "execution_count": null,
   "id": "113da283-ae3a-468f-a7a8-43386182bca3",
   "metadata": {},
   "outputs": [],
   "source": [
    "# area of the circle 3.14*r*r\n",
    "# area of the cone\n",
    "# area of the squre\n",
    "# area of the retangle\n",
    "# parameter of the circle"
   ]
  }
 ],
 "metadata": {
  "kernelspec": {
   "display_name": "Python [conda env:base] *",
   "language": "python",
   "name": "conda-base-py"
  },
  "language_info": {
   "codemirror_mode": {
    "name": "ipython",
    "version": 3
   },
   "file_extension": ".py",
   "mimetype": "text/x-python",
   "name": "python",
   "nbconvert_exporter": "python",
   "pygments_lexer": "ipython3",
   "version": "3.12.7"
  }
 },
 "nbformat": 4,
 "nbformat_minor": 5
}
