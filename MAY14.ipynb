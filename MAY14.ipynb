{
 "cells": [
  {
   "cell_type": "code",
   "execution_count": 27,
   "id": "dfa173b1-d706-454d-ade8-f30e91d6722f",
   "metadata": {},
   "outputs": [
    {
     "name": "stdin",
     "output_type": "stream",
     "text": [
      "enter a number: 0\n"
     ]
    },
    {
     "name": "stdout",
     "output_type": "stream",
     "text": [
      "negative\n"
     ]
    }
   ],
   "source": [
    "#Get a number from user check whether postive or negative\n",
    "a=float(input(\"enter a number:\"))\n",
    "if a>0:\n",
    "    print(\"positive\")\n",
    "elif a<=0:\n",
    "    print(\"negative\")"
   ]
  },
  {
   "cell_type": "code",
   "execution_count": 27,
   "id": "359a3a12-29db-4819-949d-d34537bcc075",
   "metadata": {},
   "outputs": [
    {
     "name": "stdin",
     "output_type": "stream",
     "text": [
      "enter a number: 7\n"
     ]
    },
    {
     "name": "stdout",
     "output_type": "stream",
     "text": [
      "odd\n"
     ]
    }
   ],
   "source": [
    "#Get a number from user check whether odd or even\n",
    "a=int(input(\"enter a number:\"))\n",
    "if a%2==0:\n",
    "    print(\"even\")\n",
    "else:\n",
    "    print(\"odd\")"
   ]
  },
  {
   "cell_type": "code",
   "execution_count": 31,
   "id": "6913dd39-b025-4e6d-9444-0c5c70345d47",
   "metadata": {},
   "outputs": [
    {
     "name": "stdin",
     "output_type": "stream",
     "text": [
      "enter a character: Y\n"
     ]
    },
    {
     "name": "stdout",
     "output_type": "stream",
     "text": [
      "capital letter\n"
     ]
    }
   ],
   "source": [
    "#Get a character from user check whether small case or upper case\n",
    "a=input(\"enter a character:\")\n",
    "if a.isupper():\n",
    "    print(\"capital letter\")\n",
    "elif a.lower():\n",
    "        print(\"small letter\")\n",
    "        "
   ]
  },
  {
   "cell_type": "code",
   "execution_count": 63,
   "id": "da0a8da4-8704-476d-a854-0fd61323d68f",
   "metadata": {},
   "outputs": [
    {
     "name": "stdin",
     "output_type": "stream",
     "text": [
      "enter a string: whether\n"
     ]
    },
    {
     "name": "stdout",
     "output_type": "stream",
     "text": [
      "7\n",
      "odd\n"
     ]
    }
   ],
   "source": [
    "#Get a string from user check whether length is even or odd\n",
    "a=input(\"enter a string:\")\n",
    "b=len(a)\n",
    "print(b)\n",
    "if b%2==0:\n",
    "    print(\"even\")\n",
    "else:\n",
    "    print(\"odd\")\n"
   ]
  },
  {
   "cell_type": "code",
   "execution_count": 71,
   "id": "f0745c57-8875-442f-aa3e-d4a42056bd97",
   "metadata": {},
   "outputs": [
    {
     "name": "stdin",
     "output_type": "stream",
     "text": [
      "enter a list: 123456789\n"
     ]
    },
    {
     "name": "stdout",
     "output_type": "stream",
     "text": [
      "9\n",
      "odd\n"
     ]
    }
   ],
   "source": [
    "#Get list from user check whether length is odd or even\n",
    "a=list(input(\"enter a list:\"))\n",
    "b=len(a)\n",
    "print(b)\n",
    "if b%2==0:\n",
    "    print(\"even\")\n",
    "else:\n",
    "    print(\"odd\")"
   ]
  },
  {
   "cell_type": "code",
   "execution_count": 93,
   "id": "2c42157d-8555-4e48-b2b7-aecfbd5bb1cc",
   "metadata": {},
   "outputs": [
    {
     "name": "stdin",
     "output_type": "stream",
     "text": [
      "enter a string paper\n"
     ]
    },
    {
     "name": "stdout",
     "output_type": "stream",
     "text": [
      "p\n",
      "no\n"
     ]
    }
   ],
   "source": [
    "#program1\n",
    "#Get one string from user\n",
    "#extract middle letter of the string\n",
    "#check whether middle letter is vowel or no\n",
    "a=input(\"enter a string\")\n",
    "b=len(a)//2 \n",
    "c=a[b]\n",
    "print(c)\n",
    "if c in \"aeiou\":\n",
    "    print(\"The middle letter is vowel\")\n",
    "else:\n",
    "    print(\"no\")"
   ]
  },
  {
   "cell_type": "code",
   "execution_count": 103,
   "id": "1c599472-6092-4870-be18-6344e996610d",
   "metadata": {},
   "outputs": [
    {
     "name": "stdin",
     "output_type": "stream",
     "text": [
      "enter a string kumar\n"
     ]
    },
    {
     "name": "stdout",
     "output_type": "stream",
     "text": [
      "m\n",
      "109\n",
      "odd\n"
     ]
    }
   ],
   "source": [
    "#program2\n",
    "#Get one string from user\n",
    "#Find the middle letter\n",
    "#find ascii value for the middle letter\n",
    "#check whether ascii value is odd or even\n",
    "a=input(\"enter a string\")\n",
    "b=len(a)//2\n",
    "c=a[b]\n",
    "print(c)\n",
    "d=ord(c)\n",
    "print(d)\n",
    "if d%2==0:\n",
    "    print(\"even\")\n",
    "else:\n",
    "    print(\"odd\")"
   ]
  },
  {
   "cell_type": "code",
   "execution_count": 107,
   "id": "cf3d86bd-6e5b-43f3-af57-54eb5f9dd3fd",
   "metadata": {},
   "outputs": [
    {
     "name": "stdin",
     "output_type": "stream",
     "text": [
      "enter a string bhavani\n"
     ]
    },
    {
     "name": "stdout",
     "output_type": "stream",
     "text": [
      "7\n",
      "odd\n"
     ]
    }
   ],
   "source": [
    "#program3:\n",
    "#get one string from user\n",
    "#check whether length of the string is odd or even\n",
    "a=input(\"enter a string\")\n",
    "b=len(a)\n",
    "print(b)\n",
    "if d%2==0:\n",
    "    print(\"even\")\n",
    "else:\n",
    "    print(\"odd\")"
   ]
  },
  {
   "cell_type": "code",
   "execution_count": 37,
   "id": "bb8fcd95-ed80-4ce0-8341-666d119b0aac",
   "metadata": {},
   "outputs": [],
   "source": [
    "#program4:\n",
    "#Get one string from user\n",
    "#check whether string is palindrome or no\n",
    "a=input(\"enter a string\")\n",
    "b=a.lower()\n",
    "if b==b[::-1]:\n",
    "    print(\"yes\")\n",
    "else:\n",
    "    print(\"no\")"
   ]
  },
  {
   "cell_type": "code",
   "execution_count": 38,
   "id": "8adcc977-8714-459c-ba21-13d2687bd356",
   "metadata": {},
   "outputs": [
    {
     "name": "stdin",
     "output_type": "stream",
     "text": [
      "Enter your mark: 82\n"
     ]
    },
    {
     "name": "stdout",
     "output_type": "stream",
     "text": [
      "valid mark\n",
      "pass mark\n",
      "B+\n"
     ]
    }
   ],
   "source": [
    "#program5:\n",
    "#Get one mark from student\n",
    "#mark 0 to 100 otherwise invalid mark\n",
    "#50 + PASS otherwise FAIL\n",
    "#90 to 100 ===> A  ==> Even + Odd -\n",
    "#80 to 89 ===> B\n",
    "#70 to 79 ===> C\n",
    "#60 to 69 ===> D\n",
    "#50 to 59 ===> E\n",
    "#0 to 49 ===> FAIL\n",
    "#93 ===> A-\n",
    "#99 ===> A-\n",
    "#88 ====> B+\n",
    "#78\n",
    "#VALID MARK\n",
    "#PASS MARK\n",
    "#B+\n",
    "a=int(input(\"Enter your mark:\"))\n",
    "if(a<=0 or a<=100):\n",
    "        print(\"valid mark\") \n",
    "        print(\"pass mark\")\n",
    "if(a>=90 and a<=100):\n",
    "    if a%2==0:\n",
    "        print(\"A+\")\n",
    "    else:\n",
    "        print(\"A-\")\n",
    "elif(a>=80 and a<=89):\n",
    "    if a %2==0:\n",
    "        print(\"B+\")\n",
    "    else:\n",
    "        print(\"B-\")\n",
    "elif(a>=70 and a<=79):\n",
    "        print(\"C GRADE\")\n",
    "elif(a>=60 and a<=69):\n",
    "    print(\"D GRADE\")\n",
    "elif(a>=50 and a<=59):\n",
    "    print(\"E GRADE\")\n",
    "elif(a<=49):\n",
    "    print(\"FAIL\")\n",
    "else:\n",
    "    print(\"INVALID MARK\")"
   ]
  },
  {
   "cell_type": "code",
   "execution_count": null,
   "id": "e64510b3-e7cb-4322-8418-d19843444701",
   "metadata": {},
   "outputs": [],
   "source": []
  },
  {
   "cell_type": "code",
   "execution_count": null,
   "id": "af19527d-60ba-4cb1-a74b-a9343c34c340",
   "metadata": {},
   "outputs": [],
   "source": []
  },
  {
   "cell_type": "code",
   "execution_count": 61,
   "id": "3e5d00ee-13e5-46f1-85a3-8ce361d34c74",
   "metadata": {},
   "outputs": [],
   "source": []
  },
  {
   "cell_type": "code",
   "execution_count": null,
   "id": "5df21ad1-c827-4286-92b4-c0e2b14eaee9",
   "metadata": {},
   "outputs": [],
   "source": []
  }
 ],
 "metadata": {
  "kernelspec": {
   "display_name": "Python [conda env:base] *",
   "language": "python",
   "name": "conda-base-py"
  },
  "language_info": {
   "codemirror_mode": {
    "name": "ipython",
    "version": 3
   },
   "file_extension": ".py",
   "mimetype": "text/x-python",
   "name": "python",
   "nbconvert_exporter": "python",
   "pygments_lexer": "ipython3",
   "version": "3.12.7"
  }
 },
 "nbformat": 4,
 "nbformat_minor": 5
}
