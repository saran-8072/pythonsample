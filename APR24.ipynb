{
 "cells": [
  {
   "cell_type": "code",
   "execution_count": 3,
   "id": "3fe34ef2-b955-4f48-8253-b52281eb055f",
   "metadata": {},
   "outputs": [
    {
     "name": "stdin",
     "output_type": "stream",
     "text": [
      "Enter your age: 13\n"
     ]
    },
    {
     "name": "stdout",
     "output_type": "stream",
     "text": [
      "Age limit is 18\n"
     ]
    }
   ],
   "source": [
    "voter=int(input(\"Enter your age:\"))\n",
    "if(voter>18):\n",
    "    print(\"You can vote\")\n",
    "else:\n",
    "    print(\"Age limit is 18\")"
   ]
  },
  {
   "cell_type": "code",
   "execution_count": 1,
   "id": "d2afe4d1-4394-428e-b0c1-119ff85c835a",
   "metadata": {},
   "outputs": [
    {
     "name": "stdin",
     "output_type": "stream",
     "text": [
      "Enter your mark: 45\n"
     ]
    },
    {
     "name": "stdout",
     "output_type": "stream",
     "text": [
      "valid mark\n",
      "pass mark\n",
      "FAIL\n",
      "50+ PASS otherwise FAIL \n"
     ]
    }
   ],
   "source": [
    "student=int(input(\"Enter your mark:\"))\n",
    "if(0<=student<=100):\n",
    "        print(\"valid mark\") \n",
    "        print(\"pass mark\")\n",
    "if(student>=90 and student<=100):\n",
    "        print(\"A grade\")\n",
    "elif(student>=80 and student<=89):\n",
    "    print(\"B grade\")\n",
    "elif(student>=70 and student<=79):\n",
    "    print(\"C grade\")\n",
    "elif(student>=60 and student<=69):\n",
    "    print(\"D grade\")\n",
    "elif(student>=50 and student<=59):\n",
    "    print(\"E garde\")\n",
    "elif(student<=49):\n",
    "    print(\"FAIL\") \n",
    "    print(\"50+ PASS otherwise FAIL \")\n",
    "else:\n",
    "    print(\"invalid mark\")"
   ]
  },
  {
   "cell_type": "code",
   "execution_count": null,
   "id": "54f5a691-5ad5-4d99-bcb4-62e5e24b402e",
   "metadata": {},
   "outputs": [],
   "source": []
  },
  {
   "cell_type": "code",
   "execution_count": 7,
   "id": "d8d3049d-badb-45f8-a69c-9f0c39568fb7",
   "metadata": {},
   "outputs": [
    {
     "name": "stdout",
     "output_type": "stream",
     "text": [
      "Flight_ticket_booking\n"
     ]
    },
    {
     "name": "stdin",
     "output_type": "stream",
     "text": [
      " Hii sir i want to book flight ticket\n"
     ]
    },
    {
     "name": "stdout",
     "output_type": "stream",
     "text": [
      "okk sir \n"
     ]
    },
    {
     "name": "stdin",
     "output_type": "stream",
     "text": [
      "enter the price: 1000\n"
     ]
    },
    {
     "name": "stdout",
     "output_type": "stream",
     "text": [
      "1000\n",
      "no sir i have 500 sir \n"
     ]
    },
    {
     "name": "stdin",
     "output_type": "stream",
     "text": [
      "Minimum cost price: 899\n"
     ]
    },
    {
     "name": "stdout",
     "output_type": "stream",
     "text": [
      "899\n"
     ]
    },
    {
     "name": "stdin",
     "output_type": "stream",
     "text": [
      " There is any offer\n"
     ]
    },
    {
     "name": "stdout",
     "output_type": "stream",
     "text": [
      "yes sir 10% offer\n",
      "89.9\n",
      "Total: 809.1\n",
      "Ticket booked \n"
     ]
    }
   ],
   "source": [
    " print(\"Flight_ticket_booking\")\n",
    "user1=input()\n",
    "counter1=\"okk sir \"\n",
    "print(counter1)\n",
    "counter2=int(input(\"enter the price:\"))\n",
    "print(counter2)\n",
    "user2= \"no sir i have 500 sir \"\n",
    "print(user2)\n",
    "counter3=int(input(\"Minimum cost price:\"))\n",
    "print(counter3)\n",
    "user3=input()\n",
    "counter4=\"yes sir 10% offer\"\n",
    "print(counter4)\n",
    "a=counter3*(10/100)\n",
    "print(a)\n",
    "print(\"Total:\",counter3-a)\n",
    "print(\"Ticket booked \")"
   ]
  },
  {
   "cell_type": "code",
   "execution_count": null,
   "id": "9b862a7e-186b-41ee-94cc-b979b4a51f7c",
   "metadata": {},
   "outputs": [],
   "source": [
    "#fligt ticket booking ? rate =1000 ,500 no ,min ,899 , offer card , 10% - 900 =? \"ticket booked\""
   ]
  },
  {
   "cell_type": "code",
   "execution_count": 25,
   "id": "ccc75cf7-85d5-4749-9bc0-12a713a2f2fe",
   "metadata": {},
   "outputs": [],
   "source": [
    "#Get one mark from student\n",
    "#mark 0 to 100 otherwise invalid mark\n",
    "#50 + PASS otherwise FAIL\n",
    "#90 to 100 ===> A  ==> Even + Odd -\n",
    "#80 to 89 ===> B\n",
    "#70 to 79 ===> C\n",
    "#60 to 69 ===> D\n",
    "#50 to 59 ===> E\n",
    "#0 to 49 ===> FAIL\n",
    "#93 ===> A-\n",
    "#99 ===> A-\n",
    "#88 ====> B+\n",
    "#78\n",
    "#VALID MARK\n",
    "#PASS MARK\n",
    "#B+"
   ]
  },
  {
   "cell_type": "code",
   "execution_count": 10,
   "id": "e244ed85-95ad-49e9-8ef6-c1c2b9f2f340",
   "metadata": {},
   "outputs": [
    {
     "name": "stdin",
     "output_type": "stream",
     "text": [
      "enter a value: det\n"
     ]
    },
    {
     "name": "stdout",
     "output_type": "stream",
     "text": [
      "True <class 'bool'>\n"
     ]
    }
   ],
   "source": [
    "a=str(input(\"enter a value:\"))\n",
    "b=bool(a)\n",
    "print(b,type(b))"
   ]
  },
  {
   "cell_type": "code",
   "execution_count": 12,
   "id": "6353be2e-b5fa-4301-a84a-39cb9496e805",
   "metadata": {},
   "outputs": [
    {
     "name": "stdin",
     "output_type": "stream",
     "text": [
      "enter a value: sar\n"
     ]
    },
    {
     "ename": "ValueError",
     "evalue": "could not convert string to float: 'sar'",
     "output_type": "error",
     "traceback": [
      "\u001b[1;31m---------------------------------------------------------------------------\u001b[0m",
      "\u001b[1;31mValueError\u001b[0m                                Traceback (most recent call last)",
      "Cell \u001b[1;32mIn[12], line 2\u001b[0m\n\u001b[0;32m      1\u001b[0m a\u001b[38;5;241m=\u001b[39m\u001b[38;5;28mstr\u001b[39m(\u001b[38;5;28minput\u001b[39m(\u001b[38;5;124m\"\u001b[39m\u001b[38;5;124menter a value:\u001b[39m\u001b[38;5;124m\"\u001b[39m))\n\u001b[1;32m----> 2\u001b[0m b\u001b[38;5;241m=\u001b[39m\u001b[38;5;28mfloat\u001b[39m(a)\n\u001b[0;32m      3\u001b[0m \u001b[38;5;28mprint\u001b[39m(b,\u001b[38;5;28mtype\u001b[39m(b))\n",
      "\u001b[1;31mValueError\u001b[0m: could not convert string to float: 'sar'"
     ]
    }
   ],
   "source": [
    "a=str(input(\"enter a value:\"))\n",
    "b=float(a)\n",
    "print(b,type(b))"
   ]
  },
  {
   "cell_type": "code",
   "execution_count": 14,
   "id": "69e558a5-d31d-483c-817f-0313fadd32e7",
   "metadata": {},
   "outputs": [
    {
     "name": "stdin",
     "output_type": "stream",
     "text": [
      "enter a value: tyu\n"
     ]
    },
    {
     "name": "stdout",
     "output_type": "stream",
     "text": [
      "True <class 'str'>\n"
     ]
    }
   ],
   "source": [
    "a=bool(input(\"enter a value:\"))\n",
    "b=str(a)\n",
    "print(b,type(b))"
   ]
  },
  {
   "cell_type": "code",
   "execution_count": 16,
   "id": "a7961b87-2f19-49df-bbeb-236b65d72150",
   "metadata": {},
   "outputs": [
    {
     "name": "stdin",
     "output_type": "stream",
     "text": [
      "enter a value: klj\n"
     ]
    },
    {
     "name": "stdout",
     "output_type": "stream",
     "text": [
      "1 <class 'int'>\n"
     ]
    }
   ],
   "source": [
    "a=bool(input(\"enter a value:\"))\n",
    "b=int(a)\n",
    "print(b,type(b))"
   ]
  },
  {
   "cell_type": "code",
   "execution_count": 18,
   "id": "b9139a8d-909b-4153-935c-9180a66cb2df",
   "metadata": {},
   "outputs": [
    {
     "name": "stdin",
     "output_type": "stream",
     "text": [
      "enter a value: uio\n"
     ]
    },
    {
     "name": "stdout",
     "output_type": "stream",
     "text": [
      "1.0 <class 'float'>\n"
     ]
    }
   ],
   "source": [
    "a=bool(input(\"enter a value:\"))\n",
    "b=float(a)\n",
    "print(b,type(b))"
   ]
  },
  {
   "cell_type": "code",
   "execution_count": 24,
   "id": "b0ecde97-4bb2-4beb-9578-f2edc0d2c10c",
   "metadata": {},
   "outputs": [
    {
     "name": "stdin",
     "output_type": "stream",
     "text": [
      "enter a value: 789\n"
     ]
    },
    {
     "name": "stdout",
     "output_type": "stream",
     "text": [
      "789.0 <class 'str'>\n"
     ]
    }
   ],
   "source": [
    "a=float(input(\"enter a value:\"))\n",
    "b=str(a)\n",
    "print(b,type(b))"
   ]
  },
  {
   "cell_type": "code",
   "execution_count": 26,
   "id": "694bdcae-bb7c-4019-a3cd-54346b8c10be",
   "metadata": {},
   "outputs": [
    {
     "name": "stdin",
     "output_type": "stream",
     "text": [
      "enter a value: 576\n"
     ]
    },
    {
     "name": "stdout",
     "output_type": "stream",
     "text": [
      "576 <class 'int'>\n"
     ]
    }
   ],
   "source": [
    "a=float(input(\"enter a value:\"))\n",
    "b=int(a)\n",
    "print(b,type(b))"
   ]
  },
  {
   "cell_type": "code",
   "execution_count": 28,
   "id": "bd0939ce-c9d8-4964-a287-544243687bee",
   "metadata": {},
   "outputs": [
    {
     "name": "stdin",
     "output_type": "stream",
     "text": [
      "enter a value: 89\n"
     ]
    },
    {
     "name": "stdout",
     "output_type": "stream",
     "text": [
      "True <class 'bool'>\n"
     ]
    }
   ],
   "source": [
    "a=float(input(\"enter a value:\"))\n",
    "b=bool(a)\n",
    "print(b,type(b))"
   ]
  },
  {
   "cell_type": "code",
   "execution_count": 30,
   "id": "372e17ce-6fc0-4732-822d-382442520b47",
   "metadata": {},
   "outputs": [
    {
     "name": "stdin",
     "output_type": "stream",
     "text": [
      "enter a value: 89\n"
     ]
    },
    {
     "name": "stdout",
     "output_type": "stream",
     "text": [
      "89.0 <class 'str'>\n"
     ]
    }
   ],
   "source": [
    "a=float(input(\"enter a value:\"))\n",
    "b=str(a)\n",
    "print(b,type(b))"
   ]
  },
  {
   "cell_type": "code",
   "execution_count": null,
   "id": "f509ab91-9643-4618-8385-55b7565ffc96",
   "metadata": {},
   "outputs": [],
   "source": [
    "# radius = 3.8 height 5.6 find area of cone (1/3 pi r * r * h"
   ]
  },
  {
   "cell_type": "code",
   "execution_count": 1,
   "id": "35e8fd5d-bee6-4046-a49c-43a9f6763ae2",
   "metadata": {},
   "outputs": [
    {
     "name": "stdin",
     "output_type": "stream",
     "text": [
      "enter a radius: 3.4\n",
      "enter a height: 5.4\n"
     ]
    },
    {
     "name": "stdout",
     "output_type": "stream",
     "text": [
      "17\n"
     ]
    }
   ],
   "source": [
    "a=float(input(\"enter a radius:\"))\n",
    "b=float(input(\"enter a height:\"))\n",
    "c=0.3*3.14*a*b\n",
    "print(round(c))"
   ]
  },
  {
   "cell_type": "code",
   "execution_count": 45,
   "id": "e87e87dc-ab20-4983-b9e5-48475af76715",
   "metadata": {},
   "outputs": [
    {
     "name": "stdin",
     "output_type": "stream",
     "text": [
      "enter a value: 3.4\n"
     ]
    },
    {
     "name": "stdout",
     "output_type": "stream",
     "text": [
      "11.559999999999999\n"
     ]
    }
   ],
   "source": [
    "a=float(input(\"enter a value:\"))\n",
    "c=a*a\n",
    "print(c)"
   ]
  },
  {
   "cell_type": "code",
   "execution_count": 9,
   "id": "6a0f5f07-e05e-4a20-8be1-dda93e3ad726",
   "metadata": {},
   "outputs": [
    {
     "name": "stdin",
     "output_type": "stream",
     "text": [
      "enter a value: 6.8\n"
     ]
    },
    {
     "name": "stdout",
     "output_type": "stream",
     "text": [
      "277\n"
     ]
    }
   ],
   "source": [
    "a=float(input(\"enter a value:\"))\n",
    "b=6*a*a\n",
    "print(round(b))"
   ]
  },
  {
   "cell_type": "code",
   "execution_count": 11,
   "id": "ad7e0d2c-f63d-40a2-ad36-9b398cde264f",
   "metadata": {},
   "outputs": [
    {
     "name": "stdin",
     "output_type": "stream",
     "text": [
      "enter a value: 8.4\n",
      "enter a value: 7.6\n"
     ]
    },
    {
     "name": "stdout",
     "output_type": "stream",
     "text": [
      "32\n"
     ]
    }
   ],
   "source": [
    "a=float(input(\"enter a value:\"))\n",
    "b=float(input(\"enter a value:\"))\n",
    "c=0.5*a*b\n",
    "print(round(c))"
   ]
  },
  {
   "cell_type": "code",
   "execution_count": 56,
   "id": "03b8a375-2f52-4222-8a9e-4af74b4a2209",
   "metadata": {},
   "outputs": [
    {
     "name": "stdin",
     "output_type": "stream",
     "text": [
      "enter a value: 2.3\n",
      "enter a value: 3.4\n"
     ]
    },
    {
     "name": "stdout",
     "output_type": "stream",
     "text": [
      "7.819999999999999\n"
     ]
    }
   ],
   "source": [
    "a=float(input(\"enter a value:\"))\n",
    "b=float(input(\"enter a value:\"))\n",
    "c=a*b\n",
    "print(c)"
   ]
  },
  {
   "cell_type": "code",
   "execution_count": 58,
   "id": "962f1b9f-27ce-4358-ad75-d233cfc2844a",
   "metadata": {},
   "outputs": [
    {
     "name": "stdin",
     "output_type": "stream",
     "text": [
      "enter a value: 2.3\n",
      "enter a value: 3.4\n"
     ]
    },
    {
     "name": "stdout",
     "output_type": "stream",
     "text": [
      "7.819999999999999\n"
     ]
    }
   ],
   "source": [
    "l=float(input(\"enter a value:\"))\n",
    "w=float(input(\"enter a value:\"))\n",
    "c=l*w\n",
    "print(c)"
   ]
  },
  {
   "cell_type": "code",
   "execution_count": 66,
   "id": "bfec1dc7-6580-47ab-a420-f06f2166cb62",
   "metadata": {},
   "outputs": [
    {
     "name": "stdin",
     "output_type": "stream",
     "text": [
      "enter your pin 1234\n"
     ]
    },
    {
     "name": "stdout",
     "output_type": "stream",
     "text": [
      "please enter your amount\n"
     ]
    }
   ],
   "source": [
    "a=int(input(\"enter your pin\"))\n",
    "b=1234\n",
    "if(a==b):\n",
    "    print(\"please enter your amount\")\n",
    "else:\n",
    "    print(\"your pin number is wrong\")\n",
    "    "
   ]
  },
  {
   "cell_type": "code",
   "execution_count": null,
   "id": "cc0a9488-f3fb-4268-a90d-9f2fb9a4e394",
   "metadata": {},
   "outputs": [],
   "source": [
    "area of the square = a * a  \n",
    "area of the  Qube = 6 a*a\n",
    "area of the triangle = 1/2 *b*h\n",
    "area of the parellogram = b*h\n",
    "area of the rectangle = l*w"
   ]
  },
  {
   "cell_type": "code",
   "execution_count": 41,
   "id": "02dd76ec-0a17-4b87-a560-2433c2d65662",
   "metadata": {},
   "outputs": [
    {
     "name": "stdout",
     "output_type": "stream",
     "text": [
      "es\n",
      "ienc\n"
     ]
    }
   ],
   "source": [
    "a=\"computer science\"\n",
    "print(a[6]+a[9])\n",
    "print(a[-5:-1])\n",
    "#es\n",
    "#ienc"
   ]
  },
  {
   "cell_type": "code",
   "execution_count": 5,
   "id": "4dace996-7417-41da-afcb-4a4c51a9741b",
   "metadata": {},
   "outputs": [
    {
     "name": "stdout",
     "output_type": "stream",
     "text": [
      "tic\n",
      "co\n",
      "ce\n",
      "ese\n",
      "tc\n",
      "pese\n",
      "i\n",
      " \n"
     ]
    }
   ],
   "source": [
    "a=\"computer science\"\n",
    "b=a[-11]\n",
    "c=a[10:12]\n",
    "d=c[::-1]\n",
    "e=b+d\n",
    "print(e)\n",
    "print(a[0:2])\n",
    "print(a[0::15])\n",
    "print(a[6]+a[9]+a[12])\n",
    "print(a[5]+a[10])\n",
    "print(a[3]+a[6]+a[9]+a[-4])\n",
    "print(a[-5])\n",
    "print(a[8])\n",
    "\n",
    "#tic"
   ]
  },
  {
   "cell_type": "code",
   "execution_count": null,
   "id": "d7e935e4-dd53-4fea-9cae-982591bd6855",
   "metadata": {},
   "outputs": [],
   "source": [
    "#tic\n",
    "#cmu\n",
    "#ce\n",
    "#ese\n",
    "#tc\n",
    "#pese\n",
    "#i"
   ]
  },
  {
   "cell_type": "code",
   "execution_count": 99,
   "id": "d0d327d9-5cae-491d-a7dd-df1fa4390691",
   "metadata": {},
   "outputs": [
    {
     "name": "stdout",
     "output_type": "stream",
     "text": [
      "cmue cec\n"
     ]
    }
   ],
   "source": [
    "a=\"computer science\"\n",
    "print(a[0::2])\n",
    "#cmu"
   ]
  },
  {
   "cell_type": "code",
   "execution_count": 109,
   "id": "03d9ba83-1d3b-49b5-bc15-2631f434c81c",
   "metadata": {},
   "outputs": [
    {
     "name": "stdout",
     "output_type": "stream",
     "text": [
      "ce\n"
     ]
    }
   ],
   "source": [
    "a=\"computer science\"\n",
    "print(a[0::15])\n",
    "#ce"
   ]
  },
  {
   "cell_type": "code",
   "execution_count": 117,
   "id": "337a5394-a154-4006-9a65-c555b3ebcc3b",
   "metadata": {},
   "outputs": [
    {
     "name": "stdout",
     "output_type": "stream",
     "text": [
      "ese\n"
     ]
    }
   ],
   "source": [
    "a=\"computer science\"\n",
    "print(a[6]+a[9]+a[12])\n",
    "#ese"
   ]
  },
  {
   "cell_type": "code",
   "execution_count": 123,
   "id": "988f4f49-2526-476f-abdc-b138400dd116",
   "metadata": {},
   "outputs": [
    {
     "name": "stdout",
     "output_type": "stream",
     "text": [
      "tc\n"
     ]
    }
   ],
   "source": [
    "a=\"computer science\"\n",
    "print(a[5]+a[10])\n",
    "#tc"
   ]
  },
  {
   "cell_type": "code",
   "execution_count": 141,
   "id": "ba263dfd-e357-4c2c-ac5a-4afcc90ec982",
   "metadata": {},
   "outputs": [
    {
     "name": "stdout",
     "output_type": "stream",
     "text": [
      "pese\n"
     ]
    }
   ],
   "source": [
    "a=\"computer science\"\n",
    "print(a[3]+a[6]+a[9]+a[-4])\n",
    "#pese"
   ]
  },
  {
   "cell_type": "code",
   "execution_count": 139,
   "id": "d5a7ec4b-e242-4629-bd55-0e83613c9ab0",
   "metadata": {},
   "outputs": [
    {
     "name": "stdout",
     "output_type": "stream",
     "text": [
      "i\n"
     ]
    }
   ],
   "source": [
    "a=\"computer science\"\n",
    "print(a[-5])\n",
    "#i"
   ]
  },
  {
   "cell_type": "code",
   "execution_count": 143,
   "id": "6a404d33-7c0e-4ce8-b8f8-1c3ac45bf903",
   "metadata": {},
   "outputs": [
    {
     "name": "stdout",
     "output_type": "stream",
     "text": [
      " \n"
     ]
    }
   ],
   "source": [
    "a=\"computer science\"\n",
    "print(a[8])"
   ]
  },
  {
   "cell_type": "code",
   "execution_count": null,
   "id": "0c9d3091-35ba-4ef3-8be2-742c9e887f8f",
   "metadata": {},
   "outputs": [],
   "source": [
    "#tic\n",
    "#cmu\n",
    "#ce\n",
    "#ese\n",
    "#tc\n",
    "#pese\n",
    "#i"
   ]
  },
  {
   "cell_type": "code",
   "execution_count": null,
   "id": "a3b9dc50-35a3-4da8-b069-c3ee090a0807",
   "metadata": {},
   "outputs": [],
   "source": []
  },
  {
   "cell_type": "code",
   "execution_count": null,
   "id": "7eb051ce-d915-48a3-916f-adca439bad77",
   "metadata": {},
   "outputs": [],
   "source": []
  }
 ],
 "metadata": {
  "kernelspec": {
   "display_name": "Python [conda env:base] *",
   "language": "python",
   "name": "conda-base-py"
  },
  "language_info": {
   "codemirror_mode": {
    "name": "ipython",
    "version": 3
   },
   "file_extension": ".py",
   "mimetype": "text/x-python",
   "name": "python",
   "nbconvert_exporter": "python",
   "pygments_lexer": "ipython3",
   "version": "3.12.7"
  }
 },
 "nbformat": 4,
 "nbformat_minor": 5
}
